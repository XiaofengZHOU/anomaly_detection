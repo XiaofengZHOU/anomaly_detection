{
 "cells": [
  {
   "cell_type": "code",
   "execution_count": null,
   "metadata": {
    "collapsed": true
   },
   "outputs": [],
   "source": [
    "import pandas as pd\n",
    "import matplotlib\n",
    "import matplotlib.pyplot as plt\n",
    "import numpy as np\n",
    "import math\n",
    "from IPython.display import Markdown,display\n",
    "\n",
    "df = pd.read_csv('data/DATA_20171130.csv')"
   ]
  },
  {
   "cell_type": "code",
   "execution_count": null,
   "metadata": {},
   "outputs": [],
   "source": [
    "asset = df.loc[df['asset'] == 4]\n",
    "#asset.to_csv('data/data_by_asset/4.csv')\n",
    "asset.loc[(asset['MDI_DASHBOARD_FUEL']!=' ') | (asset['MDI_OBD_FUEL']!=' ') ]"
   ]
  },
  {
   "cell_type": "code",
   "execution_count": null,
   "metadata": {},
   "outputs": [],
   "source": [
    "asset = df.loc[df['asset'] == 33]\n",
    "#asset.to_csv('data/data_by_asset/34.csv')\n",
    "asset.loc[(asset['MDI_DASHBOARD_FUEL']!=' ') | (asset['MDI_OBD_FUEL']!=' ') ]"
   ]
  },
  {
   "cell_type": "code",
   "execution_count": null,
   "metadata": {},
   "outputs": [],
   "source": [
    "num_asset = len(df['asset'])\n",
    "file_path = 'data/data_by_asset/'\n",
    "for i in range(5000):\n",
    "    asset = df.loc[df['asset'] == i]\n",
    "    if len(asset.loc[(asset['MDI_DASHBOARD_FUEL']!=' ') | (asset['MDI_OBD_FUEL']!=' ') ])>100:\n",
    "        file_name = str(i)+'.csv'\n",
    "        asset.to_csv(file_path+file_name)\n",
    "        "
   ]
  },
  {
   "cell_type": "code",
   "execution_count": 5,
   "metadata": {
    "collapsed": true
   },
   "outputs": [],
   "source": [
    "asset = df.loc[df['asset'] == 4]\n",
    "keys = ['asset','recorded_at','MDI_DASHBOARD_FUEL','MDI_OBD_FUEL','ODO_FULL_METER','MDI_OBD_MILEAGE','MDI_DASHBOARD_MILEAGE']\n",
    "asset_sub = asset[keys]"
   ]
  },
  {
   "cell_type": "code",
   "execution_count": null,
   "metadata": {
    "scrolled": true
   },
   "outputs": [],
   "source": [
    "file_path = 'data/data_by_asset_keys/'\n",
    "keys = ['asset','recorded_at','MDI_DASHBOARD_FUEL','MDI_OBD_FUEL','ODO_FULL_METER','MDI_OBD_MILEAGE','MDI_DASHBOARD_MILEAGE']\n",
    "for i in range(5000):\n",
    "    asset = df.loc[df['asset'] == i]\n",
    "    if len(asset.loc[(asset['MDI_DASHBOARD_FUEL']!=' ') | (asset['MDI_OBD_FUEL']!=' ') ])>100:\n",
    "        file_name = str(i)+'.csv'\n",
    "        asset_sub = asset[keys]\n",
    "        asset_sub.to_csv(file_path+file_name)"
   ]
  },
  {
   "cell_type": "code",
   "execution_count": null,
   "metadata": {
    "collapsed": true
   },
   "outputs": [],
   "source": []
  }
 ],
 "metadata": {
  "kernelspec": {
   "display_name": "Python 3",
   "language": "python",
   "name": "python3"
  },
  "language_info": {
   "codemirror_mode": {
    "name": "ipython",
    "version": 3
   },
   "file_extension": ".py",
   "mimetype": "text/x-python",
   "name": "python",
   "nbconvert_exporter": "python",
   "pygments_lexer": "ipython3",
   "version": "3.6.3"
  }
 },
 "nbformat": 4,
 "nbformat_minor": 2
}
