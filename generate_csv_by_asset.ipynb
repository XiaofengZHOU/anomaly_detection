{
 "cells": [
  {
   "cell_type": "code",
   "execution_count": null,
   "metadata": {
    "collapsed": true
   },
   "outputs": [],
   "source": [
    "import pandas as pd\n",
    "import matplotlib\n",
    "import matplotlib.pyplot as plt\n",
    "import numpy as np\n",
    "import math\n",
    "from IPython.display import Markdown,display\n",
    "\n",
    "df = pd.read_csv('data/DATA_20171130.csv')"
   ]
  },
  {
   "cell_type": "code",
   "execution_count": null,
   "metadata": {},
   "outputs": [],
   "source": [
    "keys = ['asset','recorded_at','MDI_DASHBOARD_FUEL','MDI_OBD_FUEL','ODO_FULL_METER','MDI_OBD_MILEAGE','MDI_DASHBOARD_MILEAGE']\n",
    "file_path1 = 'data/data_by_asset/'\n",
    "file_path2 = 'data/data_by_asset_keys/'\n",
    "#in reality many of the asset is empty. Only 5000 assets contain valide data\n",
    "num_asset = 5000\n",
    "\n",
    "def select_subset(df,num_asset,keys,file_path1,file_path2):\n",
    "    keys_fuel = ['MDI_DASHBOARD_FUEL','MDI_OBD_FUEL']\n",
    "    keys_distance = ['ODO_FULL_METER','MDI_OBD_MILEAGE','MDI_DASHBOARD_MILEAGE']\n",
    "    for i in range(num_asset):\n",
    "        asset = df.loc[df['asset'] == i]\n",
    "        #choose the asset that contains the information of gas consumption\n",
    "        if len(    asset.loc[  ( ( (asset[keys_fuel[0]]!=' ') & (asset[keys_fuel[0]]!='0') ) \n",
    "                                |( (asset[keys_fuel[1]]!=' ') & (asset[keys_fuel[1]]!='0') ) \n",
    "                               )\n",
    "                             & ( ( (asset[keys_distance[0]]!=' ') & (asset[keys_distance[0]]!='0') ) \n",
    "                                |( (asset[keys_distance[1]]!=' ') & (asset[keys_distance[1]]!='0') ) \n",
    "                                |( (asset[keys_distance[2]]!=' ') & (asset[keys_distance[2]]!='0') ) )] ) >0:\n",
    "            file_name = str(i)+'.csv'\n",
    "            asset.to_csv(file_path1+file_name)\n",
    "            asset[keys].to_csv(file_path2+file_name)\n",
    "select_subset(df,num_asset,keys,file_path1,file_path2)      "
   ]
  }
 ],
 "metadata": {
  "kernelspec": {
   "display_name": "Python 3",
   "language": "python",
   "name": "python3"
  },
  "language_info": {
   "codemirror_mode": {
    "name": "ipython",
    "version": 3
   },
   "file_extension": ".py",
   "mimetype": "text/x-python",
   "name": "python",
   "nbconvert_exporter": "python",
   "pygments_lexer": "ipython3",
   "version": "3.6.3"
  }
 },
 "nbformat": 4,
 "nbformat_minor": 2
}
