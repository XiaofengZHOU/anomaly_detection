{
 "cells": [
  {
   "cell_type": "code",
   "execution_count": 3,
   "metadata": {
    "collapsed": true
   },
   "outputs": [],
   "source": [
    "import pandas as pd\n",
    "import matplotlib\n",
    "import matplotlib.pyplot as plt\n",
    "import numpy as np\n",
    "import math\n",
    "from IPython.display import Markdown,display\n",
    "import datetime\n",
    "import time\n",
    "\n",
    "df = pd.read_csv('data/DATA_20171130.csv')"
   ]
  },
  {
   "cell_type": "code",
   "execution_count": 54,
   "metadata": {
    "collapsed": true
   },
   "outputs": [],
   "source": [
    "\"\"\"\n",
    "function: select asset that contains fuel consumption information\n",
    "\"\"\"\n",
    "def select_subset(df,num_asset,keys,file_path1,file_path2):\n",
    "    keys_fuel = ['MDI_DASHBOARD_FUEL','MDI_OBD_FUEL']\n",
    "    keys_distance = ['ODO_FULL_METER','MDI_OBD_MILEAGE','MDI_DASHBOARD_MILEAGE']\n",
    "    for i in range(num_asset):\n",
    "        asset = df.loc[df['asset'] == i]\n",
    "        #choose the asset that contains the information of gas consumption\n",
    "        if len(    asset.loc[  ( ( (asset[keys_fuel[0]]!=' ') & (asset[keys_fuel[0]]!='0') ) \n",
    "                                |( (asset[keys_fuel[1]]!=' ') & (asset[keys_fuel[1]]!='0') ) \n",
    "                               )\n",
    "                             & ( ( (asset[keys_distance[0]]!=' ') & (asset[keys_distance[0]]!='0') ) \n",
    "                                |( (asset[keys_distance[1]]!=' ') & (asset[keys_distance[1]]!='0') ) \n",
    "                                |( (asset[keys_distance[2]]!=' ') & (asset[keys_distance[2]]!='0') ) )] ) >0:\n",
    "            file_name = str(i)+'.csv'  \n",
    "            asset.to_csv(file_path1+file_name)           #original data\n",
    "            asset[keys].to_csv(file_path2+file_name)     #data contains key info\n",
    "\n",
    "#keys : import informations \n",
    "keys = ['asset','recorded_at','MDI_DASHBOARD_FUEL','MDI_OBD_FUEL','ODO_FULL_METER','MDI_OBD_MILEAGE','MDI_DASHBOARD_MILEAGE']\n",
    "file_path1 = 'data/data_by_asset/'\n",
    "file_path2 = 'data/data_by_asset_keys/'\n",
    "#in reality many of the asset is empty. Only 5000 assets contain valide data\n",
    "num_asset = 5000\n",
    "select_subset(df,num_asset,keys,file_path1,file_path2)      "
   ]
  },
  {
   "cell_type": "code",
   "execution_count": 4,
   "metadata": {},
   "outputs": [],
   "source": [
    "\"\"\"\n",
    "function : divide a asset into small pieces according to the time interval\n",
    "\"\"\"\n",
    "def divise_asset_by_time(file_full_path):\n",
    "    df_asset = pd.read_csv(file_full_path)\n",
    "    df_list = []\n",
    "    count_data = len(df_asset)\n",
    "    \n",
    "    start_line = 0\n",
    "    for i in range(1,count_data):\n",
    "        last_time      = time.mktime( datetime.datetime.strptime(df_asset.iloc[i-1]['recorded_at'], \"%Y-%m-%dT%H:%M:%SZ\").timetuple() )\n",
    "        current_time   = time.mktime( datetime.datetime.strptime(df_asset.iloc[i]['recorded_at'], \"%Y-%m-%dT%H:%M:%SZ\").timetuple() )\n",
    "        \n",
    "        #here we consider the interval between 2 journey is greater than 30 minutes\n",
    "        interval = 1800\n",
    "        if current_time-last_time > interval:\n",
    "            df_list.append(df_asset.iloc[start_line:i])\n",
    "            start_line = i     \n",
    "        if i == count_data-1:    \n",
    "            df_list.append(df_asset.iloc[start_line:count_data])\n",
    "    return df_list\n",
    "\n",
    "file_path = 'data/data_by_asset_keys/'\n",
    "file_name = '4.csv'\n",
    "df_list = divise_asset_by_time(file_path+file_name)\n",
    "\n",
    "for i in range(len(df_list)):\n",
    "    print(\"start time :\",df_list[i].iloc[0]['recorded_at'], \" end time :\",df_list[i].iloc[-1]['recorded_at'])\n"
   ]
  },
  {
   "cell_type": "code",
   "execution_count": null,
   "metadata": {
    "collapsed": true
   },
   "outputs": [],
   "source": []
  }
 ],
 "metadata": {
  "kernelspec": {
   "display_name": "Python 3",
   "language": "python",
   "name": "python3"
  },
  "language_info": {
   "codemirror_mode": {
    "name": "ipython",
    "version": 3
   },
   "file_extension": ".py",
   "mimetype": "text/x-python",
   "name": "python",
   "nbconvert_exporter": "python",
   "pygments_lexer": "ipython3",
   "version": "3.6.3"
  }
 },
 "nbformat": 4,
 "nbformat_minor": 2
}
