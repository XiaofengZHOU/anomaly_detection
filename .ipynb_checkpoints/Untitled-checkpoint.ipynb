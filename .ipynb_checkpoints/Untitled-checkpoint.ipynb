{
 "cells": [
  {
   "cell_type": "code",
   "execution_count": 1,
   "metadata": {
    "collapsed": true
   },
   "outputs": [],
   "source": [
    "import pandas as pd\n",
    "import matplotlib\n",
    "import matplotlib.pyplot as plt\n",
    "import numpy as np\n",
    "import math\n",
    "from IPython.display import Markdown,display\n",
    "import datetime\n",
    "import time\n",
    "import re\n",
    "from data_helper import *\n",
    "import os"
   ]
  },
  {
   "cell_type": "code",
   "execution_count": 9,
   "metadata": {
    "collapsed": true
   },
   "outputs": [],
   "source": [
    "file_path = 'data/data_asset_choosed/487/'\n",
    "file_name = '487.csv'\n",
    "df_asset = pd.read_csv(file_path+file_name)\n",
    "df_list = divise_asset_by_time(df_asset,1800)\n",
    "file_path = 'data/data_asset_choosed/487/subset_by_time/'\n",
    "for i,df in enumerate(df_list):\n",
    "    df.to_csv(file_path+str(i)+'.csv')"
   ]
  },
  {
   "cell_type": "code",
   "execution_count": 12,
   "metadata": {
    "collapsed": true
   },
   "outputs": [],
   "source": [
    "file_path = 'data/data_asset_choosed/487/subset_by_time/'\n",
    "file_name = '35.csv'\n",
    "df_asset = pd.read_csv(file_path+file_name)\n",
    "\n",
    "df_asset = generate_speed_info_original_data(df_asset)\n",
    "df_asset.to_csv(file_path+'35_speed.csv',index=False)  "
   ]
  },
  {
   "cell_type": "code",
   "execution_count": 13,
   "metadata": {
    "collapsed": true
   },
   "outputs": [],
   "source": [
    "def choose_blank_row_to_delete(df_asset):\n",
    "    row_list = []\n",
    "    for i in range(len(df_asset)-1):\n",
    "        current_data   = df_asset.iloc[i]  \n",
    "        current_speed = current_data[\"average_speed\"]\n",
    "        current_meter = current_data[\"ODO_FULL_METER\"]\n",
    "        current_fuel  = current_data[\"MDI_OBD_FUEL\"]\n",
    "        if current_meter ==\" \" and current_fuel==\" \" and current_speed !=\" \":\n",
    "            next_data  = df_asset.iloc[i+1]\n",
    "            next_speed = current_data[\"average_speed\"]\n",
    "            next_meter = current_data[\"ODO_FULL_METER\"]\n",
    "            \n",
    "            if next_speed==current_speed :\n",
    "                row_list.append(i)\n",
    "                    \n",
    "    df_asset = df_asset.drop(df_asset.index[row_list])\n",
    "    return df_asset\n",
    "\n",
    "\n",
    "df_asset = choose_blank_row_to_delete(df_asset)\n",
    "df_asset.to_csv(file_path+'35_speed_delete.csv',index=True)"
   ]
  },
  {
   "cell_type": "code",
   "execution_count": 3,
   "metadata": {},
   "outputs": [
    {
     "name": "stdout",
     "output_type": "stream",
     "text": [
      "12126\n"
     ]
    }
   ],
   "source": [
    "file_path = 'data/data_asset_choosed/487/subset_by_time/'\n",
    "file_name = '35_speed.csv'\n",
    "df_asset = pd.read_csv(file_path+file_name)\n",
    "df_asset = generate_speed_info_original_data(df_asset,60)\n",
    "df_asset.to_csv(file_path+'35_speed_60.csv')  "
   ]
  },
  {
   "cell_type": "code",
   "execution_count": 5,
   "metadata": {},
   "outputs": [],
   "source": [
    "def delete_blank_row(df_asset):\n",
    "    row_list = []\n",
    "    for i in range(len(df_asset)):\n",
    "        current_data   = df_asset.iloc[i]     \n",
    "        if current_data[\"MDI_OBD_FUEL\"] ==\" \" or current_data[\"ODO_FULL_METER\"]==\" \":\n",
    "            row_list.append(i)\n",
    "            \n",
    "    df_asset = df_asset.drop(df_asset.index[row_list])\n",
    "    return df_asset\n",
    "\n",
    "df_asset = delete_blank_row(df_asset)\n",
    "df_asset.to_csv(file_path+'35_speed_60_delete.csv') "
   ]
  },
  {
   "cell_type": "code",
   "execution_count": null,
   "metadata": {
    "collapsed": true
   },
   "outputs": [],
   "source": [
    "def generate_time_info(df_asset,key)\n",
    "    if key == \"time\":\n",
    "        df_asset[\"time\"]=\" \"\n",
    "        para = \"recorded_at\"\n",
    "    if key == \"distance\":\n",
    "        df_asset[\"distance\"]=\" \"\n",
    "        para = \"ODO_FULL_METER\"\n",
    "    if key == \"fuel\":\n",
    "        df_asset[\"fuel\"]=\" \"\n",
    "        para = \"MDI_OBD_FUEL\"\n",
    "        \n",
    "    for i in range(1,len(df_asset)):\n",
    "        current_data   = df_asset.iloc[i]\n",
    "        last_data      = df_asset.iloc[i-1]\n",
    "        if key ==\"time\"\n",
    "            current_value  = datetime_to_int(current_data[para])\n",
    "            last_value     = datetime_to_int(last_data[para])\n",
    "        else:\n",
    "            current_value  = current_data[para]\n",
    "            \n",
    "        \n",
    "        \n",
    "    "
   ]
  }
 ],
 "metadata": {
  "kernelspec": {
   "display_name": "Python 3",
   "language": "python",
   "name": "python3"
  },
  "language_info": {
   "codemirror_mode": {
    "name": "ipython",
    "version": 3
   },
   "file_extension": ".py",
   "mimetype": "text/x-python",
   "name": "python",
   "nbconvert_exporter": "python",
   "pygments_lexer": "ipython3",
   "version": "3.6.3"
  }
 },
 "nbformat": 4,
 "nbformat_minor": 2
}
