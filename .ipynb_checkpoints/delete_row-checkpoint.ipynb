{
 "cells": [
  {
   "cell_type": "code",
   "execution_count": 1,
   "metadata": {
    "collapsed": true
   },
   "outputs": [],
   "source": [
    "import pandas as pd\n",
    "import matplotlib\n",
    "import matplotlib.pyplot as plt\n",
    "import numpy as np\n",
    "import math\n",
    "from IPython.display import Markdown,display\n",
    "import datetime\n",
    "import time\n",
    "import re\n",
    "from data_helper import *\n",
    "import os"
   ]
  },
  {
   "cell_type": "code",
   "execution_count": 14,
   "metadata": {},
   "outputs": [],
   "source": [
    "def delete_blank_row(df_asset):\n",
    "    row_list = []\n",
    "    for i in range(len(df_asset)):\n",
    "        current_data   = df_asset.iloc[i]     \n",
    "        if current_data[\"MDI_OBD_FUEL\"] ==\" \" and current_data[\"ODO_FULL_METER\"]==\" \":\n",
    "            row_list.append(i)\n",
    "            \n",
    "    df_asset = df_asset.drop(df_asset.index[row_lsit])\n",
    "    return df_asset\n",
    "\n",
    "file_path = 'data/data_asset_choosed/2371/'\n",
    "file_name = '2371_test1.csv'\n",
    "df_asset = pd.read_csv(file_path+file_name)\n",
    "df_asset = delete_blank_row(df_asset)\n",
    "df_asset.to_csv(file_path+'2371_test1_delete.csv',index=True)\n",
    "\n",
    "            "
   ]
  },
  {
   "cell_type": "code",
   "execution_count": 20,
   "metadata": {},
   "outputs": [],
   "source": [
    "def choose_blank_row_to_delete(df_asset):\n",
    "    row_list = []\n",
    "    for i in range(len(df_asset)-1):\n",
    "        current_data   = df_asset.iloc[i]  \n",
    "        current_speed = current_data[\"average_speed\"]\n",
    "        current_meter = current_data[\"ODO_FULL_METER\"]\n",
    "        current_fuel  = current_data[\"MDI_OBD_FUEL\"]\n",
    "        if current_meter ==\" \" and current_fuel==\" \" and current_speed !=\" \":\n",
    "            next_data  = df_asset.iloc[i+1]\n",
    "            next_speed = current_data[\"average_speed\"]\n",
    "            next_meter = current_data[\"ODO_FULL_METER\"]\n",
    "            \n",
    "            if next_speed==current_speed :\n",
    "                row_list.append(i)\n",
    "                    \n",
    "    df_asset = df_asset.drop(df_asset.index[row_list])\n",
    "    return df_asset\n",
    "\n",
    "file_path = 'data/data_asset_choosed/2371/'\n",
    "file_name = '2371_speed.csv'\n",
    "df_asset = pd.read_csv(file_path+file_name)\n",
    "df_asset = choose_blank_row_to_delete(df_asset)\n",
    "df_asset.to_csv(file_path+'2371_speed_delete.csv',index=True)\n",
    "    "
   ]
  },
  {
   "cell_type": "code",
   "execution_count": null,
   "metadata": {
    "collapsed": true
   },
   "outputs": [],
   "source": []
  }
 ],
 "metadata": {
  "kernelspec": {
   "display_name": "Python 3",
   "language": "python",
   "name": "python3"
  },
  "language_info": {
   "codemirror_mode": {
    "name": "ipython",
    "version": 3
   },
   "file_extension": ".py",
   "mimetype": "text/x-python",
   "name": "python",
   "nbconvert_exporter": "python",
   "pygments_lexer": "ipython3",
   "version": "3.6.3"
  }
 },
 "nbformat": 4,
 "nbformat_minor": 2
}
