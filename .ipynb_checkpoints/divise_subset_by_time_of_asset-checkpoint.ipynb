{
 "cells": [
  {
   "cell_type": "code",
   "execution_count": 1,
   "metadata": {
    "collapsed": true
   },
   "outputs": [],
   "source": [
    "import pandas as pd\n",
    "import matplotlib\n",
    "import matplotlib.pyplot as plt\n",
    "import numpy as np\n",
    "import math\n",
    "from IPython.display import Markdown,display\n",
    "import datetime\n",
    "import time\n",
    "\n",
    "file_path = 'data/data_by_asset_keys/'\n",
    "file_name = '4.csv'\n",
    "df = pd.read_csv(file_path+file_name,parse_dates=[1])"
   ]
  },
  {
   "cell_type": "code",
   "execution_count": 8,
   "metadata": {},
   "outputs": [],
   "source": [
    "file_path = 'data/data_by_asset_keys/'\n",
    "file_name = '4.csv'\n",
    "\n",
    "def divise_asset_by_time(file_full_path):\n",
    "    df_asset = pd.read_csv(file_full_path)\n",
    "    df_list = []\n",
    "    count_data = len(df_asset)\n",
    "    \n",
    "    start_line = 0\n",
    "    for i in range(1,count_data):\n",
    "        last_time      = time.mktime( datetime.datetime.strptime(df_asset.iloc[i-1]['recorded_at'], \"%Y-%m-%dT%H:%M:%SZ\").timetuple() )\n",
    "        current_time   = time.mktime( datetime.datetime.strptime(df_asset.iloc[i]['recorded_at'], \"%Y-%m-%dT%H:%M:%SZ\").timetuple() )\n",
    "        if current_time-last_time > 1800:\n",
    "            df_list.append(df_asset.iloc[start_line:i])\n",
    "            start_line = i     \n",
    "        if i == count_data-1:    \n",
    "            df_list.append(df_asset.iloc[start_line:count_data])\n",
    "    return df_list\n",
    "df_list = divise_asset_by_time(file_path+file_name)"
   ]
  },
  {
   "cell_type": "code",
   "execution_count": null,
   "metadata": {
    "collapsed": true
   },
   "outputs": [],
   "source": []
  }
 ],
 "metadata": {
  "kernelspec": {
   "display_name": "Python 3",
   "language": "python",
   "name": "python3"
  },
  "language_info": {
   "codemirror_mode": {
    "name": "ipython",
    "version": 3
   },
   "file_extension": ".py",
   "mimetype": "text/x-python",
   "name": "python",
   "nbconvert_exporter": "python",
   "pygments_lexer": "ipython3",
   "version": "3.6.3"
  }
 },
 "nbformat": 4,
 "nbformat_minor": 2
}
