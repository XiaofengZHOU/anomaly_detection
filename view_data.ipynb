{
 "cells": [
  {
   "cell_type": "code",
   "execution_count": 1,
   "metadata": {
    "collapsed": true
   },
   "outputs": [],
   "source": [
    "import pandas as pd\n",
    "import matplotlib\n",
    "import matplotlib.pyplot as plt\n",
    "import numpy as np\n",
    "import math\n",
    "from IPython.display import Markdown,display"
   ]
  },
  {
   "cell_type": "code",
   "execution_count": 2,
   "metadata": {
    "collapsed": true
   },
   "outputs": [],
   "source": [
    "df = pd.read_csv('data/DATA_20171130.csv')"
   ]
  },
  {
   "cell_type": "code",
   "execution_count": 3,
   "metadata": {},
   "outputs": [
    {
     "data": {
      "text/markdown": [
       "# MDI_OBD_ENGINE_COOLANT_PRESSURE\n",
       "Engine coolant pressure in psi."
      ],
      "text/plain": [
       "<IPython.core.display.Markdown object>"
      ]
     },
     "metadata": {},
     "output_type": "display_data"
    },
    {
     "name": "stdout",
     "output_type": "stream",
     "text": [
      "max_value:  220\n",
      "min_value:  0\n",
      "mean_value:  121.528534371\n",
      "std_value:  58.6876155217\n",
      "median_value:  117.0\n",
      "1542\n"
     ]
    },
    {
     "data": {
      "image/png": "[encoded data removed]",
      "text/plain": [
       "<matplotlib.figure.Figure at 0x20f7459cfd0>"
      ]
     },
     "metadata": {},
     "output_type": "display_data"
    }
   ],
   "source": [
    "header = '# MDI_OBD_ENGINE_COOLANT_PRESSURE\\n'\n",
    "description = \"\"\"Engine coolant pressure in psi.\"\"\"\n",
    "display(Markdown(header+description))\n",
    "\n",
    "MDI_OBD_ENGINE_COOLANT_PRESSURE = df['MDI_OBD_ENGINE_COOLANT_PRESSURE']\n",
    "data_MDI_OBD_ENGINE_COOLANT_PRESSURE = []\n",
    "\n",
    "for data in MDI_OBD_ENGINE_COOLANT_PRESSURE:\n",
    "    if data == ' ':\n",
    "        continue\n",
    "    else:\n",
    "        data_MDI_OBD_ENGINE_COOLANT_PRESSURE.append(int(data))\n",
    "data_MDI_OBD_ENGINE_COOLANT_PRESSURE = np.array(data_MDI_OBD_ENGINE_COOLANT_PRESSURE)\n",
    "max_value  = np.max(data_MDI_OBD_ENGINE_COOLANT_PRESSURE)\n",
    "min_value  = np.min(data_MDI_OBD_ENGINE_COOLANT_PRESSURE)\n",
    "mean_value = np.mean(data_MDI_OBD_ENGINE_COOLANT_PRESSURE)\n",
    "std_value  = np.std(data_MDI_OBD_ENGINE_COOLANT_PRESSURE)\n",
    "median_value = np.median(data_MDI_OBD_ENGINE_COOLANT_PRESSURE)\n",
    "print('max_value: ',max_value)\n",
    "print('min_value: ',min_value)\n",
    "print('mean_value: ',mean_value)\n",
    "print('std_value: ',std_value)\n",
    "print('median_value: ',median_value)\n",
    "print(len(data_MDI_OBD_ENGINE_COOLANT_PRESSURE))\n",
    "b = np.arange(min_value,max_value,1)\n",
    "plt.hist(data_MDI_OBD_ENGINE_COOLANT_PRESSURE,b)\n",
    "plt.show()"
   ]
  },
  {
   "cell_type": "code",
   "execution_count": 4,
   "metadata": {},
   "outputs": [
    {
     "data": {
      "text/markdown": [
       "# ODO_FULL_METER\n",
       "Stores value in meters of the GPS full odometer."
      ],
      "text/plain": [
       "<IPython.core.display.Markdown object>"
      ]
     },
     "metadata": {},
     "output_type": "display_data"
    },
    {
     "name": "stdout",
     "output_type": "stream",
     "text": [
      "max_value:  899878661\n",
      "min_value:  -2118507903\n",
      "mean_value:  32037372.8321\n",
      "std_value:  48470010.567\n",
      "median_value:  16001822.0\n",
      "number of lines :  7460631\n"
     ]
    },
    {
     "data": {
      "image/png": "[encoded data removed]",
      "text/plain": [
       "<matplotlib.figure.Figure at 0x20ff724c240>"
      ]
     },
     "metadata": {},
     "output_type": "display_data"
    },
    {
     "data": {
      "image/png": "[encoded data removed]",
      "text/plain": [
       "<matplotlib.figure.Figure at 0x20ffd80e780>"
      ]
     },
     "metadata": {},
     "output_type": "display_data"
    }
   ],
   "source": [
    "header = '# ODO_FULL_METER\\n'\n",
    "description = \"\"\"Stores value in meters of the GPS full odometer.\"\"\"\n",
    "display(Markdown(header+description))\n",
    "\n",
    "ODO_FULL_METER = df['ODO_FULL_METER']\n",
    "data_ODO_FULL_METER = []\n",
    "\n",
    "for data in ODO_FULL_METER:\n",
    "    if data == ' ':\n",
    "        continue\n",
    "    else:\n",
    "        data_ODO_FULL_METER.append(int(data))\n",
    "data_ODO_FULL_METER = np.array(data_ODO_FULL_METER)\n",
    "data_ODO_FULL_METER = np.sort(data_ODO_FULL_METER)\n",
    "max_value  = np.max(data_ODO_FULL_METER)\n",
    "min_value  = np.min(data_ODO_FULL_METER)\n",
    "mean_value = np.mean(data_ODO_FULL_METER)\n",
    "std_value  = np.std(data_ODO_FULL_METER)\n",
    "median_value = np.median(data_ODO_FULL_METER)\n",
    "print('max_value: ',max_value)\n",
    "print('min_value: ',min_value)\n",
    "print('mean_value: ',mean_value)\n",
    "print('std_value: ',std_value)\n",
    "print('median_value: ',median_value)\n",
    "print('number of lines : ',len(data_ODO_FULL_METER))\n",
    "b = np.arange(0,max_value,  (max_value)/100 )\n",
    "plt.hist(data_ODO_FULL_METER,b)\n",
    "plt.show()\n",
    "\n",
    "b = np.arange(0,max_value/5,  (max_value)/1000 )\n",
    "plt.hist(data_ODO_FULL_METER,b)\n",
    "plt.show()"
   ]
  },
  {
   "cell_type": "code",
   "execution_count": 5,
   "metadata": {},
   "outputs": [
    {
     "data": {
      "text/markdown": [
       "# BATT_VOLT\n",
       "Internal battery voltage (mV)."
      ],
      "text/plain": [
       "<IPython.core.display.Markdown object>"
      ]
     },
     "metadata": {},
     "output_type": "display_data"
    },
    {
     "name": "stdout",
     "output_type": "stream",
     "text": [
      "max_value:  4284\n",
      "min_value:  0\n",
      "mean_value:  4029.58521396\n",
      "std_value:  78.487954267\n",
      "median_value:  4032.0\n",
      "number of lines :  13140418\n"
     ]
    },
    {
     "data": {
      "image/png": "[encoded data removed]",
      "text/plain": [
       "<matplotlib.figure.Figure at 0x20f670add68>"
      ]
     },
     "metadata": {},
     "output_type": "display_data"
    },
    {
     "data": {
      "image/png": "[encoded data removed]",
      "text/plain": [
       "<matplotlib.figure.Figure at 0x20f670a4ba8>"
      ]
     },
     "metadata": {},
     "output_type": "display_data"
    }
   ],
   "source": [
    "header = '# BATT_VOLT\\n'\n",
    "description = \"\"\"Internal battery voltage (mV).\"\"\"\n",
    "display(Markdown(header+description))\n",
    "\n",
    "BATT_VOLT = df['BATT_VOLT']\n",
    "data_BATT_VOLT = []\n",
    "\n",
    "for data in BATT_VOLT:\n",
    "    if data == ' ':\n",
    "        continue\n",
    "    else:\n",
    "        data_BATT_VOLT.append(int(data))\n",
    "data_BATT_VOLT = np.array(data_BATT_VOLT)\n",
    "data_BATT_VOLT = np.sort(data_BATT_VOLT)\n",
    "max_value  = np.max(data_BATT_VOLT)\n",
    "min_value  = np.min(data_BATT_VOLT)\n",
    "mean_value = np.mean(data_BATT_VOLT)\n",
    "std_value  = np.std(data_BATT_VOLT)\n",
    "median_value = np.median(data_BATT_VOLT)\n",
    "print('max_value: ',max_value)\n",
    "print('min_value: ',min_value)\n",
    "print('mean_value: ',mean_value)\n",
    "print('std_value: ',std_value)\n",
    "print('median_value: ',median_value)\n",
    "print('number of lines : ',len(data_BATT_VOLT))\n",
    "b = np.arange(min_value,max_value,50 )\n",
    "hist = plt.hist(data_BATT_VOLT,b)\n",
    "plt.show()\n",
    "\n",
    "b = np.arange(3800,max_value,5)\n",
    "hist = plt.hist(data_BATT_VOLT,b)\n",
    "plt.show()"
   ]
  },
  {
   "cell_type": "code",
   "execution_count": 6,
   "metadata": {},
   "outputs": [
    {
     "data": {
      "text/markdown": [
       "# MDI_OBD_ENGINE_OIL_TEMP\n",
       "Engine oil temperature in Fahrenheit."
      ],
      "text/plain": [
       "<IPython.core.display.Markdown object>"
      ]
     },
     "metadata": {},
     "output_type": "display_data"
    },
    {
     "name": "stdout",
     "output_type": "stream",
     "text": [
      "max_value:  4482\n",
      "min_value:  -4561\n",
      "mean_value:  34.1910351503\n",
      "std_value:  501.840508623\n",
      "median_value:  93.0\n",
      "number of lines :  638516\n"
     ]
    },
    {
     "data": {
      "image/png": "[encoded data removed]",
      "text/plain": [
       "<matplotlib.figure.Figure at 0x20f67188dd8>"
      ]
     },
     "metadata": {},
     "output_type": "display_data"
    },
    {
     "data": {
      "image/png": "[encoded data removed]",
      "text/plain": [
       "<matplotlib.figure.Figure at 0x20f671daba8>"
      ]
     },
     "metadata": {},
     "output_type": "display_data"
    }
   ],
   "source": [
    "header = '# MDI_OBD_ENGINE_OIL_TEMP\\n'\n",
    "description = \"\"\"Engine oil temperature in Fahrenheit.\"\"\"\n",
    "display(Markdown(header+description))\n",
    "\n",
    "MDI_OBD_ENGINE_OIL_TEMP = df['MDI_OBD_ENGINE_OIL_TEMP']\n",
    "data_MDI_OBD_ENGINE_OIL_TEMP = []\n",
    "\n",
    "for data in MDI_OBD_ENGINE_OIL_TEMP:\n",
    "    if data == ' ':\n",
    "        continue\n",
    "    else:\n",
    "        data_MDI_OBD_ENGINE_OIL_TEMP.append(int(data))\n",
    "data_MDI_OBD_ENGINE_OIL_TEMP = np.array(data_MDI_OBD_ENGINE_OIL_TEMP)\n",
    "data_MDI_OBD_ENGINE_OIL_TEMP = np.sort(data_MDI_OBD_ENGINE_OIL_TEMP)\n",
    "max_value  = np.max(data_MDI_OBD_ENGINE_OIL_TEMP)\n",
    "min_value  = np.min(data_MDI_OBD_ENGINE_OIL_TEMP)\n",
    "mean_value = np.mean(data_MDI_OBD_ENGINE_OIL_TEMP)\n",
    "std_value  = np.std(data_MDI_OBD_ENGINE_OIL_TEMP)\n",
    "median_value = np.median(data_MDI_OBD_ENGINE_OIL_TEMP)\n",
    "print('max_value: ',max_value)\n",
    "print('min_value: ',min_value)\n",
    "print('mean_value: ',mean_value)\n",
    "print('std_value: ',std_value)\n",
    "print('median_value: ',median_value)\n",
    "print('number of lines : ',len(data_MDI_OBD_ENGINE_OIL_TEMP))\n",
    "b = np.arange(min_value,max_value,(max_value-min_value)/100)\n",
    "hist = plt.hist(data_MDI_OBD_ENGINE_OIL_TEMP,b)\n",
    "plt.show()\n",
    "\n",
    "b = np.arange(0,130,2)\n",
    "hist = plt.hist(data_MDI_OBD_ENGINE_OIL_TEMP,b)\n",
    "plt.show()"
   ]
  },
  {
   "cell_type": "code",
   "execution_count": 7,
   "metadata": {},
   "outputs": [
    {
     "data": {
      "text/markdown": [
       "# MDI_DASHBOARD_FUEL\n",
       "Fuel level in liters from the dashboard."
      ],
      "text/plain": [
       "<IPython.core.display.Markdown object>"
      ]
     },
     "metadata": {},
     "output_type": "display_data"
    },
    {
     "name": "stdout",
     "output_type": "stream",
     "text": [
      "max_value:  100\n",
      "min_value:  0\n",
      "mean_value:  58.689267616\n",
      "std_value:  23.5398228471\n",
      "median_value:  60.0\n",
      "number of lines :  1130336\n"
     ]
    },
    {
     "data": {
      "image/png": "[encoded data removed]",
      "text/plain": [
       "<matplotlib.figure.Figure at 0x21089ed0908>"
      ]
     },
     "metadata": {},
     "output_type": "display_data"
    }
   ],
   "source": [
    "header = '# MDI_DASHBOARD_FUEL\\n'\n",
    "description = \"\"\"Fuel level in liters from the dashboard.\"\"\"\n",
    "display(Markdown(header+description))\n",
    "\n",
    "MDI_DASHBOARD_FUEL = df['MDI_DASHBOARD_FUEL']\n",
    "data_MDI_DASHBOARD_FUEL = []\n",
    "\n",
    "for data in MDI_DASHBOARD_FUEL:\n",
    "    if data == ' ':\n",
    "        continue\n",
    "    else:\n",
    "        data_MDI_DASHBOARD_FUEL.append(int(data))\n",
    "data_MDI_DASHBOARD_FUEL = np.array(data_MDI_DASHBOARD_FUEL)\n",
    "data_MDI_DASHBOARD_FUEL = np.sort(data_MDI_DASHBOARD_FUEL)\n",
    "max_value  = np.max(data_MDI_DASHBOARD_FUEL)\n",
    "min_value  = np.min(data_MDI_DASHBOARD_FUEL)\n",
    "mean_value = np.mean(data_MDI_DASHBOARD_FUEL)\n",
    "std_value  = np.std(data_MDI_DASHBOARD_FUEL)\n",
    "median_value = np.median(data_MDI_DASHBOARD_FUEL)\n",
    "print('max_value: ',max_value)\n",
    "print('min_value: ',min_value)\n",
    "print('mean_value: ',mean_value)\n",
    "print('std_value: ',std_value)\n",
    "print('median_value: ',median_value)\n",
    "print('number of lines : ',len(data_MDI_DASHBOARD_FUEL))\n",
    "b = np.arange(min_value,max_value,(max_value-min_value)/100)\n",
    "hist = plt.hist(data_MDI_OBD_ENGINE_OIL_TEMP,b)\n",
    "plt.show()\n"
   ]
  },
  {
   "cell_type": "code",
   "execution_count": 8,
   "metadata": {},
   "outputs": [
    {
     "data": {
      "text/markdown": [
       "# MDI_OBD_FUEL\n",
       "Total cumulated quantity (in mL) of fuel consumed since last reset . \n",
       "                Estimated with OBD2 or eOBD instantaneous data \n",
       "                (not the dashboard data that is available with additional module)"
      ],
      "text/plain": [
       "<IPython.core.display.Markdown object>"
      ]
     },
     "metadata": {},
     "output_type": "display_data"
    },
    {
     "name": "stdout",
     "output_type": "stream",
     "text": [
      "max_value:  2147409057\n",
      "min_value:  -2147280555\n",
      "mean_value:  24242350.3407\n",
      "std_value:  174479028.635\n",
      "median_value:  9485607.5\n",
      "number of lines :  2564456\n"
     ]
    },
    {
     "data": {
      "image/png": "[encoded data removed]",
      "text/plain": [
       "<matplotlib.figure.Figure at 0x20f393a5ef0>"
      ]
     },
     "metadata": {},
     "output_type": "display_data"
    },
    {
     "data": {
      "image/png": "[encoded data removed]",
      "text/plain": [
       "<matplotlib.figure.Figure at 0x210561a4588>"
      ]
     },
     "metadata": {},
     "output_type": "display_data"
    }
   ],
   "source": [
    "header = '# MDI_OBD_FUEL\\n'\n",
    "description = \"\"\"Total cumulated quantity (in mL) of fuel consumed since last reset . \n",
    "                Estimated with OBD2 or eOBD instantaneous data \n",
    "                (not the dashboard data that is available with additional module)\"\"\"\n",
    "display(Markdown(header+description))\n",
    "\n",
    "MDI_OBD_FUEL = df['MDI_OBD_FUEL']\n",
    "data_MDI_OBD_FUEL = []\n",
    "\n",
    "for data in MDI_OBD_FUEL:\n",
    "    if data == ' ':\n",
    "        continue\n",
    "    else:\n",
    "        data_MDI_OBD_FUEL.append(int(data))\n",
    "data_MDI_OBD_FUEL = np.array(data_MDI_OBD_FUEL)\n",
    "data_MDI_OBD_FUEL = np.sort(data_MDI_OBD_FUEL)\n",
    "max_value  = np.max(data_MDI_OBD_FUEL)\n",
    "min_value  = np.min(data_MDI_OBD_FUEL)\n",
    "mean_value = np.mean(data_MDI_OBD_FUEL)\n",
    "median_value = np.median(data_MDI_OBD_FUEL)\n",
    "std_value  = np.std(data_MDI_OBD_FUEL)\n",
    "print('max_value: ',max_value)\n",
    "print('min_value: ',min_value)\n",
    "print('mean_value: ',mean_value)\n",
    "print('std_value: ',std_value)\n",
    "print('median_value: ',median_value)\n",
    "print('number of lines : ',len(data_MDI_OBD_FUEL))\n",
    "b = np.arange(0,max_value,(max_value)/100)\n",
    "hist = plt.hist(data_MDI_OBD_FUEL,b)\n",
    "plt.show()\n",
    "\n",
    "b = np.arange(0,max_value/20,(max_value)/2000)\n",
    "hist = plt.hist(data_MDI_OBD_FUEL,b)\n",
    "plt.show()\n"
   ]
  },
  {
   "cell_type": "code",
   "execution_count": 9,
   "metadata": {},
   "outputs": [
    {
     "data": {
      "text/markdown": [
       "# BATT\n",
       "External battery presence status (1 if present, 0 if not)"
      ],
      "text/plain": [
       "<IPython.core.display.Markdown object>"
      ]
     },
     "metadata": {},
     "output_type": "display_data"
    },
    {
     "name": "stdout",
     "output_type": "stream",
     "text": [
      "max_value:  1\n",
      "min_value:  -1\n",
      "mean_value:  0.530713192119\n",
      "std_value:  0.776429688935\n",
      "median_value:  1.0\n",
      "number of lines :  59437\n"
     ]
    }
   ],
   "source": [
    "header = '# BATT\\n'\n",
    "description = \"\"\"External battery presence status (1 if present, 0 if not)\"\"\"\n",
    "display(Markdown(header+description))\n",
    "\n",
    "BATT = df['BATT']\n",
    "data_BATT = []\n",
    "\n",
    "for data in BATT:\n",
    "    if data == ' ':\n",
    "        continue\n",
    "    else:\n",
    "        data_BATT.append(int(data))\n",
    "data_BATT = np.array(data_BATT)\n",
    "data_BATT = np.sort(data_BATT)\n",
    "max_value  = np.max(data_BATT)\n",
    "min_value  = np.min(data_BATT)\n",
    "mean_value = np.mean(data_BATT)\n",
    "median_value = np.median(data_BATT)\n",
    "std_value  = np.std(data_BATT)\n",
    "print('max_value: ',max_value)\n",
    "print('min_value: ',min_value)\n",
    "print('mean_value: ',mean_value)\n",
    "print('std_value: ',std_value)\n",
    "print('median_value: ',median_value)\n",
    "print('number of lines : ',len(data_BATT))\n",
    "\n",
    "\n"
   ]
  },
  {
   "cell_type": "code",
   "execution_count": 72,
   "metadata": {},
   "outputs": [
    {
     "data": {
      "text/markdown": [
       "# MDI_OBD_MILEAGE\n",
       "Mileage in kilometers obtained from the OBD"
      ],
      "text/plain": [
       "<IPython.core.display.Markdown object>"
      ]
     },
     "metadata": {},
     "output_type": "display_data"
    },
    {
     "name": "stdout",
     "output_type": "stream",
     "text": [
      "max_value:  468513\n",
      "min_value:  0\n",
      "mean_value:  66359.1317755\n",
      "std_value:  52732.78892\n",
      "median_value:  52165.0\n",
      "number of lines :  179950\n"
     ]
    },
    {
     "data": {
      "image/png": "[encoded data removed]",
      "text/plain": [
       "<matplotlib.figure.Figure at 0x21061c05d68>"
      ]
     },
     "metadata": {},
     "output_type": "display_data"
    }
   ],
   "source": [
    "header = '# MDI_OBD_MILEAGE\\n'\n",
    "description = \"\"\"Mileage in kilometers obtained from the OBD\"\"\"\n",
    "display(Markdown(header+description))\n",
    "\n",
    "MDI_OBD_MILEAGE = df['MDI_OBD_MILEAGE']\n",
    "data_MDI_OBD_MILEAGE = []\n",
    "\n",
    "for data in MDI_OBD_MILEAGE:\n",
    "    if data == ' ':\n",
    "        continue\n",
    "    else:\n",
    "        data_MDI_OBD_MILEAGE.append(int(data))\n",
    "data_MDI_OBD_MILEAGE = np.array(data_MDI_OBD_MILEAGE)\n",
    "data_MDI_OBD_MILEAGE = np.sort(data_MDI_OBD_MILEAGE)\n",
    "max_value  = np.max(data_MDI_OBD_MILEAGE)\n",
    "min_value  = np.min(data_MDI_OBD_MILEAGE)\n",
    "mean_value = np.mean(data_MDI_OBD_MILEAGE)\n",
    "median_value = np.median(data_MDI_OBD_MILEAGE)\n",
    "std_value  = np.std(data_MDI_OBD_MILEAGE)\n",
    "print('max_value: ',max_value)\n",
    "print('min_value: ',min_value)\n",
    "print('mean_value: ',mean_value)\n",
    "print('std_value: ',std_value)\n",
    "print('median_value: ',median_value)\n",
    "print('number of lines : ',len(data_MDI_OBD_MILEAGE))\n",
    "\n",
    "b = np.arange(0,max_value,(max_value)/1000)\n",
    "hist = plt.hist(data_MDI_OBD_MILEAGE,b)\n",
    "plt.show()"
   ]
  },
  {
   "cell_type": "code",
   "execution_count": 74,
   "metadata": {},
   "outputs": [
    {
     "data": {
      "text/markdown": [
       "# MDI_MAX_SPEED_JOURNEY\n",
       "Maximum speed of the latest journey"
      ],
      "text/plain": [
       "<IPython.core.display.Markdown object>"
      ]
     },
     "metadata": {},
     "output_type": "display_data"
    },
    {
     "name": "stdout",
     "output_type": "stream",
     "text": [
      "max_value:  1506\n",
      "min_value:  0\n",
      "mean_value:  32.2524985215\n",
      "std_value:  42.6951499562\n",
      "median_value:  0.0\n",
      "number of lines :  601956\n"
     ]
    },
    {
     "data": {
      "image/png": "[encoded data removed]",
      "text/plain": [
       "<matplotlib.figure.Figure at 0x20f672eda90>"
      ]
     },
     "metadata": {},
     "output_type": "display_data"
    },
    {
     "data": {
      "image/png": "[encoded data removed]",
      "text/plain": [
       "<matplotlib.figure.Figure at 0x20f67edb0f0>"
      ]
     },
     "metadata": {},
     "output_type": "display_data"
    }
   ],
   "source": [
    "header = '# MDI_MAX_SPEED_JOURNEY\\n'\n",
    "description = \"\"\"Maximum speed of the latest journey\"\"\"\n",
    "display(Markdown(header+description))\n",
    "\n",
    "MDI_MAX_SPEED_JOURNEY = df['MDI_MAX_SPEED_JOURNEY']\n",
    "data_MDI_MAX_SPEED_JOURNEY = []\n",
    "\n",
    "for data in MDI_MAX_SPEED_JOURNEY:\n",
    "    if data == ' ':\n",
    "        continue\n",
    "    else:\n",
    "        data_MDI_MAX_SPEED_JOURNEY.append(int(data))\n",
    "data_MDI_MAX_SPEED_JOURNEY = np.array(data_MDI_MAX_SPEED_JOURNEY)\n",
    "data_MDI_MAX_SPEED_JOURNEY = np.sort(data_MDI_MAX_SPEED_JOURNEY)\n",
    "max_value  = np.max(data_MDI_MAX_SPEED_JOURNEY)\n",
    "min_value  = np.min(data_MDI_MAX_SPEED_JOURNEY)\n",
    "mean_value = np.mean(data_MDI_MAX_SPEED_JOURNEY)\n",
    "median_value = np.median(data_MDI_MAX_SPEED_JOURNEY)\n",
    "std_value  = np.std(data_MDI_MAX_SPEED_JOURNEY)\n",
    "print('max_value: ',max_value)\n",
    "print('min_value: ',min_value)\n",
    "print('mean_value: ',mean_value)\n",
    "print('std_value: ',std_value)\n",
    "print('median_value: ',median_value)\n",
    "print('number of lines : ',len(data_MDI_MAX_SPEED_JOURNEY))\n",
    "\n",
    "b = np.arange(0,200,1)\n",
    "hist = plt.hist(data_MDI_MAX_SPEED_JOURNEY,b)\n",
    "plt.show()\n",
    "\n",
    "b = np.arange(1,150,1)\n",
    "hist = plt.hist(data_MDI_MAX_SPEED_JOURNEY,b)\n",
    "plt.show()"
   ]
  },
  {
   "cell_type": "code",
   "execution_count": 78,
   "metadata": {},
   "outputs": [
    {
     "data": {
      "text/markdown": [
       "# MDI_OBD_ENGINE_OIL_PRESSURE\n",
       "Engine Oil Pressure in psi."
      ],
      "text/plain": [
       "<IPython.core.display.Markdown object>"
      ]
     },
     "metadata": {},
     "output_type": "display_data"
    },
    {
     "name": "stdout",
     "output_type": "stream",
     "text": [
      "max_value:  880\n",
      "min_value:  0\n",
      "mean_value:  286.885457325\n",
      "std_value:  101.460227769\n",
      "median_value:  276.0\n",
      "number of lines :  867502\n"
     ]
    },
    {
     "data": {
      "image/png": "[encoded data removed]",
      "text/plain": [
       "<matplotlib.figure.Figure at 0x210e9328160>"
      ]
     },
     "metadata": {},
     "output_type": "display_data"
    },
    {
     "data": {
      "image/png": "[encoded data removed]",
      "text/plain": [
       "<matplotlib.figure.Figure at 0x210a0a852e8>"
      ]
     },
     "metadata": {},
     "output_type": "display_data"
    }
   ],
   "source": [
    "header = '# MDI_OBD_ENGINE_OIL_PRESSURE\\n'\n",
    "description = \"\"\"Engine Oil Pressure in psi.\"\"\"\n",
    "display(Markdown(header+description))\n",
    "\n",
    "MDI_OBD_ENGINE_OIL_PRESSURE = df['MDI_OBD_ENGINE_OIL_PRESSURE']\n",
    "data_MDI_OBD_ENGINE_OIL_PRESSURE = []\n",
    "\n",
    "for data in MDI_OBD_ENGINE_OIL_PRESSURE:\n",
    "    if data == ' ':\n",
    "        continue\n",
    "    else:\n",
    "        data_MDI_OBD_ENGINE_OIL_PRESSURE.append(int(data))\n",
    "data_MDI_OBD_ENGINE_OIL_PRESSURE = np.array(data_MDI_OBD_ENGINE_OIL_PRESSURE)\n",
    "data_MDI_OBD_ENGINE_OIL_PRESSURE = np.sort(data_MDI_OBD_ENGINE_OIL_PRESSURE)\n",
    "max_value  = np.max(data_MDI_OBD_ENGINE_OIL_PRESSURE)\n",
    "min_value  = np.min(data_MDI_OBD_ENGINE_OIL_PRESSURE)\n",
    "mean_value = np.mean(data_MDI_OBD_ENGINE_OIL_PRESSURE)\n",
    "median_value = np.median(data_MDI_OBD_ENGINE_OIL_PRESSURE)\n",
    "std_value  = np.std(data_MDI_OBD_ENGINE_OIL_PRESSURE)\n",
    "print('max_value: ',max_value)\n",
    "print('min_value: ',min_value)\n",
    "print('mean_value: ',mean_value)\n",
    "print('std_value: ',std_value)\n",
    "print('median_value: ',median_value)\n",
    "print('number of lines : ',len(data_MDI_OBD_ENGINE_OIL_PRESSURE))\n",
    "\n",
    "b = np.arange(min_value,max_value,1)\n",
    "hist = plt.hist(data_MDI_OBD_ENGINE_OIL_PRESSURE,b)\n",
    "plt.show()\n",
    "\n",
    "b = np.arange(100,600,5)\n",
    "hist = plt.hist(data_MDI_OBD_ENGINE_OIL_PRESSURE,b)\n",
    "plt.show()"
   ]
  },
  {
   "cell_type": "code",
   "execution_count": 80,
   "metadata": {},
   "outputs": [
    {
     "data": {
      "text/markdown": [
       "# MDI_OBD_SPEED\n",
       "Speed value in km/h obtained from the OBD"
      ],
      "text/plain": [
       "<IPython.core.display.Markdown object>"
      ]
     },
     "metadata": {},
     "output_type": "display_data"
    },
    {
     "name": "stdout",
     "output_type": "stream",
     "text": [
      "max_value:  255\n",
      "min_value:  0\n",
      "mean_value:  45.8102739309\n",
      "std_value:  40.9318924756\n",
      "median_value:  39.0\n",
      "number of lines :  3088516\n"
     ]
    },
    {
     "data": {
      "image/png": "[encoded data removed]",
      "text/plain": [
       "<matplotlib.figure.Figure at 0x20f6709dc88>"
      ]
     },
     "metadata": {},
     "output_type": "display_data"
    },
    {
     "data": {
      "image/png": "[encoded data removed]",
      "text/plain": [
       "<matplotlib.figure.Figure at 0x210e7e51390>"
      ]
     },
     "metadata": {},
     "output_type": "display_data"
    }
   ],
   "source": [
    "header = '# MDI_OBD_SPEED\\n'\n",
    "description = \"\"\"Speed value in km/h obtained from the OBD\"\"\"\n",
    "display(Markdown(header+description))\n",
    "\n",
    "MDI_OBD_SPEED = df['MDI_OBD_SPEED']\n",
    "data_MDI_OBD_SPEED = []\n",
    "\n",
    "for data in MDI_OBD_SPEED:\n",
    "    if data == ' ':\n",
    "        continue\n",
    "    else:\n",
    "        data_MDI_OBD_SPEED.append(int(data))\n",
    "data_MDI_OBD_SPEED = np.array(data_MDI_OBD_SPEED)\n",
    "data_MDI_OBD_SPEED = np.sort(data_MDI_OBD_SPEED)\n",
    "max_value  = np.max(data_MDI_OBD_SPEED)\n",
    "min_value  = np.min(data_MDI_OBD_SPEED)\n",
    "mean_value = np.mean(data_MDI_OBD_SPEED)\n",
    "median_value = np.median(data_MDI_OBD_SPEED)\n",
    "std_value  = np.std(data_MDI_OBD_SPEED)\n",
    "print('max_value: ',max_value)\n",
    "print('min_value: ',min_value)\n",
    "print('mean_value: ',mean_value)\n",
    "print('std_value: ',std_value)\n",
    "print('median_value: ',median_value)\n",
    "print('number of lines : ',len(data_MDI_OBD_SPEED))\n",
    "\n",
    "b = np.arange(min_value,max_value,1)\n",
    "hist = plt.hist(data_MDI_OBD_SPEED,b)\n",
    "plt.show()\n",
    "\n",
    "b = np.arange(1,130,1)\n",
    "hist = plt.hist(data_MDI_OBD_SPEED,b)\n",
    "plt.show()"
   ]
  },
  {
   "cell_type": "code",
   "execution_count": 83,
   "metadata": {},
   "outputs": [
    {
     "data": {
      "text/markdown": [
       "# MDI_DASHBOARD_MILEAGE\n",
       "## Mileage value in kilometers from the dashboard."
      ],
      "text/plain": [
       "<IPython.core.display.Markdown object>"
      ]
     },
     "metadata": {},
     "output_type": "display_data"
    },
    {
     "name": "stdout",
     "output_type": "stream",
     "text": [
      "max_value:  686618594\n",
      "min_value:  0\n",
      "mean_value:  280056.499761\n",
      "std_value:  2393761.4956\n",
      "median_value:  155737.0\n",
      "number of lines :  1500750\n"
     ]
    },
    {
     "data": {
      "image/png": "[encoded data removed]",
      "text/plain": [
       "<matplotlib.figure.Figure at 0x210a004d3c8>"
      ]
     },
     "metadata": {},
     "output_type": "display_data"
    },
    {
     "data": {
      "image/png": "[encoded data removed]",
      "text/plain": [
       "<matplotlib.figure.Figure at 0x210e012e4e0>"
      ]
     },
     "metadata": {},
     "output_type": "display_data"
    }
   ],
   "source": [
    "header = '# MDI_DASHBOARD_MILEAGE\\n'\n",
    "description = \"\"\"## Mileage value in kilometers from the dashboard.\"\"\"\n",
    "display(Markdown(header+description))\n",
    "\n",
    "MDI_DASHBOARD_MILEAGE = df['MDI_DASHBOARD_MILEAGE']\n",
    "data_MDI_DASHBOARD_MILEAGE = []\n",
    "\n",
    "for data in MDI_DASHBOARD_MILEAGE:\n",
    "    if data == ' ':\n",
    "        continue\n",
    "    else:\n",
    "        data_MDI_DASHBOARD_MILEAGE.append(int(data))\n",
    "data_MDI_DASHBOARD_MILEAGE = np.array(data_MDI_DASHBOARD_MILEAGE)\n",
    "data_MDI_DASHBOARD_MILEAGE = np.sort(data_MDI_DASHBOARD_MILEAGE)\n",
    "max_value  = np.max(data_MDI_DASHBOARD_MILEAGE)\n",
    "min_value  = np.min(data_MDI_DASHBOARD_MILEAGE)\n",
    "mean_value = np.mean(data_MDI_DASHBOARD_MILEAGE)\n",
    "median_value = np.median(data_MDI_DASHBOARD_MILEAGE)\n",
    "std_value  = np.std(data_MDI_DASHBOARD_MILEAGE)\n",
    "print('max_value: ',max_value)\n",
    "print('min_value: ',min_value)\n",
    "print('mean_value: ',mean_value)\n",
    "print('std_value: ',std_value)\n",
    "print('median_value: ',median_value)\n",
    "print('number of lines : ',len(data_MDI_DASHBOARD_MILEAGE))\n",
    "\n",
    "b = np.arange(min_value,max_value,(max_value-min_value)/100)\n",
    "hist = plt.hist(data_MDI_DASHBOARD_MILEAGE,b)\n",
    "plt.show()\n",
    "\n",
    "b = np.arange(min_value,max_value/400,(max_value-min_value)/50000)\n",
    "hist = plt.hist(data_MDI_DASHBOARD_MILEAGE,b)\n",
    "plt.show()"
   ]
  },
  {
   "cell_type": "code",
   "execution_count": 84,
   "metadata": {},
   "outputs": [
    {
     "data": {
      "text/markdown": [
       "# GPS_SPEED\n",
       "## Stores the last valid speed of the GPS in 1/1000th knots."
      ],
      "text/plain": [
       "<IPython.core.display.Markdown object>"
      ]
     },
     "metadata": {},
     "output_type": "display_data"
    },
    {
     "name": "stdout",
     "output_type": "stream",
     "text": [
      "max_value:  905313\n",
      "min_value:  0\n",
      "mean_value:  23779.038326\n",
      "std_value:  21230.6627513\n",
      "median_value:  20595.0\n",
      "number of lines :  9447109\n"
     ]
    },
    {
     "data": {
      "image/png": "[encoded data removed]",
      "text/plain": [
       "<matplotlib.figure.Figure at 0x210df7ef518>"
      ]
     },
     "metadata": {},
     "output_type": "display_data"
    },
    {
     "data": {
      "image/png": "[encoded data removed]",
      "text/plain": [
       "<matplotlib.figure.Figure at 0x210a12c1978>"
      ]
     },
     "metadata": {},
     "output_type": "display_data"
    }
   ],
   "source": [
    "header = '# GPS_SPEED\\n'\n",
    "description = \"\"\"## Stores the last valid speed of the GPS in 1/1000th knots.\"\"\"\n",
    "display(Markdown(header+description))\n",
    "\n",
    "GPS_SPEED = df['GPS_SPEED']\n",
    "data_GPS_SPEED = []\n",
    "\n",
    "for data in GPS_SPEED:\n",
    "    if data == ' ':\n",
    "        continue\n",
    "    else:\n",
    "        data_GPS_SPEED.append(int(data))\n",
    "data_GPS_SPEED = np.array(data_GPS_SPEED)\n",
    "data_GPS_SPEED = np.sort(data_GPS_SPEED)\n",
    "max_value  = np.max(data_GPS_SPEED)\n",
    "min_value  = np.min(data_GPS_SPEED)\n",
    "mean_value = np.mean(data_GPS_SPEED)\n",
    "median_value = np.median(data_GPS_SPEED)\n",
    "std_value  = np.std(data_GPS_SPEED)\n",
    "print('max_value: ',max_value)\n",
    "print('min_value: ',min_value)\n",
    "print('mean_value: ',mean_value)\n",
    "print('std_value: ',std_value)\n",
    "print('median_value: ',median_value)\n",
    "print('number of lines : ',len(data_GPS_SPEED))\n",
    "\n",
    "b = np.arange(min_value,max_value,(max_value-min_value)/100)\n",
    "hist = plt.hist(data_GPS_SPEED,b)\n",
    "plt.show()\n",
    "\n",
    "b = np.arange(min_value,max_value/10,(max_value-min_value)/1000)\n",
    "hist = plt.hist(data_GPS_SPEED,b)\n",
    "plt.show()\n"
   ]
  },
  {
   "cell_type": "code",
   "execution_count": 85,
   "metadata": {},
   "outputs": [
    {
     "data": {
      "text/markdown": [
       "# MDI_EXT_BATT_VOLTAGE\n",
       "## Current external battery voltage in mV."
      ],
      "text/plain": [
       "<IPython.core.display.Markdown object>"
      ]
     },
     "metadata": {},
     "output_type": "display_data"
    },
    {
     "name": "stdout",
     "output_type": "stream",
     "text": [
      "max_value:  28979\n",
      "min_value:  -1\n",
      "mean_value:  13523.4216201\n",
      "std_value:  1039.12967363\n",
      "median_value:  13825.0\n",
      "number of lines :  15045197\n"
     ]
    },
    {
     "data": {
      "image/png": "[encoded data removed]",
      "text/plain": [
       "<matplotlib.figure.Figure at 0x210e8cb67f0>"
      ]
     },
     "metadata": {},
     "output_type": "display_data"
    },
    {
     "data": {
      "image/png": "[encoded data removed]",
      "text/plain": [
       "<matplotlib.figure.Figure at 0x210e8cb64a8>"
      ]
     },
     "metadata": {},
     "output_type": "display_data"
    }
   ],
   "source": [
    "header = '# MDI_EXT_BATT_VOLTAGE\\n'\n",
    "description = \"\"\"## Current external battery voltage in mV.\"\"\"\n",
    "display(Markdown(header+description))\n",
    "\n",
    "MDI_EXT_BATT_VOLTAGE = df['MDI_EXT_BATT_VOLTAGE']\n",
    "data_MDI_EXT_BATT_VOLTAGE = []\n",
    "\n",
    "for data in MDI_EXT_BATT_VOLTAGE:\n",
    "    if data == ' ':\n",
    "        continue\n",
    "    else:\n",
    "        data_MDI_EXT_BATT_VOLTAGE.append(int(data))\n",
    "data_MDI_EXT_BATT_VOLTAGE = np.array(data_MDI_EXT_BATT_VOLTAGE)\n",
    "data_MDI_EXT_BATT_VOLTAGE = np.sort(data_MDI_EXT_BATT_VOLTAGE)\n",
    "max_value  = np.max(data_MDI_EXT_BATT_VOLTAGE)\n",
    "min_value  = np.min(data_MDI_EXT_BATT_VOLTAGE)\n",
    "mean_value = np.mean(data_MDI_EXT_BATT_VOLTAGE)\n",
    "median_value = np.median(data_MDI_EXT_BATT_VOLTAGE)\n",
    "std_value  = np.std(data_MDI_EXT_BATT_VOLTAGE)\n",
    "print('max_value: ',max_value)\n",
    "print('min_value: ',min_value)\n",
    "print('mean_value: ',mean_value)\n",
    "print('std_value: ',std_value)\n",
    "print('median_value: ',median_value)\n",
    "print('number of lines : ',len(data_MDI_EXT_BATT_VOLTAGE))\n",
    "\n",
    "b = np.arange(min_value,max_value,(max_value-min_value)/100)\n",
    "hist = plt.hist(data_MDI_EXT_BATT_VOLTAGE,b)\n",
    "plt.show()\n",
    "\n",
    "b = np.arange(10000,16000,60)\n",
    "hist = plt.hist(data_MDI_EXT_BATT_VOLTAGE,b)\n",
    "plt.show()\n",
    "\n"
   ]
  },
  {
   "cell_type": "code",
   "execution_count": 86,
   "metadata": {},
   "outputs": [
    {
     "data": {
      "text/markdown": [
       "# MDI_OBD_PARKING_BRAKE_SWITCH\n",
       "## Parking Brake Switch."
      ],
      "text/plain": [
       "<IPython.core.display.Markdown object>"
      ]
     },
     "metadata": {},
     "output_type": "display_data"
    },
    {
     "name": "stdout",
     "output_type": "stream",
     "text": [
      "max_value:  2\n",
      "min_value:  0\n",
      "mean_value:  0.362012987013\n",
      "std_value:  0.482028059271\n",
      "median_value:  0.0\n",
      "number of lines :  8624\n"
     ]
    }
   ],
   "source": [
    "header = '# MDI_OBD_PARKING_BRAKE_SWITCH\\n'\n",
    "description = \"\"\"## Parking Brake Switch.\"\"\"\n",
    "display(Markdown(header+description))\n",
    "\n",
    "MDI_OBD_PARKING_BRAKE_SWITCH = df['MDI_OBD_PARKING_BRAKE_SWITCH']\n",
    "data_MDI_OBD_PARKING_BRAKE_SWITCH = []\n",
    "\n",
    "for data in MDI_OBD_PARKING_BRAKE_SWITCH:\n",
    "    if data == ' ':\n",
    "        continue\n",
    "    else:\n",
    "        data_MDI_OBD_PARKING_BRAKE_SWITCH.append(int(data))\n",
    "data_MDI_OBD_PARKING_BRAKE_SWITCH = np.array(data_MDI_OBD_PARKING_BRAKE_SWITCH)\n",
    "data_MDI_OBD_PARKING_BRAKE_SWITCH = np.sort(data_MDI_OBD_PARKING_BRAKE_SWITCH)\n",
    "max_value  = np.max(data_MDI_OBD_PARKING_BRAKE_SWITCH)\n",
    "min_value  = np.min(data_MDI_OBD_PARKING_BRAKE_SWITCH)\n",
    "mean_value = np.mean(data_MDI_OBD_PARKING_BRAKE_SWITCH)\n",
    "median_value = np.median(data_MDI_OBD_PARKING_BRAKE_SWITCH)\n",
    "std_value  = np.std(data_MDI_OBD_PARKING_BRAKE_SWITCH)\n",
    "print('max_value: ',max_value)\n",
    "print('min_value: ',min_value)\n",
    "print('mean_value: ',mean_value)\n",
    "print('std_value: ',std_value)\n",
    "print('median_value: ',median_value)\n",
    "print('number of lines : ',len(data_MDI_OBD_PARKING_BRAKE_SWITCH))\n",
    "\n"
   ]
  },
  {
   "cell_type": "code",
   "execution_count": 87,
   "metadata": {},
   "outputs": [
    {
     "data": {
      "text/markdown": [
       "# MDI_OBD_FUEL_PRESSURE\n",
       "## Engine Fuel Delivery Pressure in psi."
      ],
      "text/plain": [
       "<IPython.core.display.Markdown object>"
      ]
     },
     "metadata": {},
     "output_type": "display_data"
    },
    {
     "name": "stdout",
     "output_type": "stream",
     "text": [
      "max_value:  765\n",
      "min_value:  0\n",
      "mean_value:  357.890608705\n",
      "std_value:  77.7233338967\n",
      "median_value:  336.0\n",
      "number of lines :  322192\n"
     ]
    },
    {
     "data": {
      "image/png": "[encoded data removed]",
      "text/plain": [
       "<matplotlib.figure.Figure at 0x210ead16eb8>"
      ]
     },
     "metadata": {},
     "output_type": "display_data"
    },
    {
     "data": {
      "image/png": "[encoded data removed]",
      "text/plain": [
       "<matplotlib.figure.Figure at 0x210e8dd2630>"
      ]
     },
     "metadata": {},
     "output_type": "display_data"
    }
   ],
   "source": [
    "header = '# MDI_OBD_FUEL_PRESSURE\\n'\n",
    "description = \"\"\"## Engine Fuel Delivery Pressure in psi.\"\"\"\n",
    "display(Markdown(header+description))\n",
    "\n",
    "MDI_OBD_FUEL_PRESSURE = df['MDI_OBD_FUEL_PRESSURE']\n",
    "data_MDI_OBD_FUEL_PRESSURE = []\n",
    "\n",
    "for data in MDI_OBD_FUEL_PRESSURE:\n",
    "    if data == ' ':\n",
    "        continue\n",
    "    else:\n",
    "        data_MDI_OBD_FUEL_PRESSURE.append(int(data))\n",
    "data_MDI_OBD_FUEL_PRESSURE = np.array(data_MDI_OBD_FUEL_PRESSURE)\n",
    "data_MDI_OBD_FUEL_PRESSURE = np.sort(data_MDI_OBD_FUEL_PRESSURE)\n",
    "max_value  = np.max(data_MDI_OBD_FUEL_PRESSURE)\n",
    "min_value  = np.min(data_MDI_OBD_FUEL_PRESSURE)\n",
    "mean_value = np.mean(data_MDI_OBD_FUEL_PRESSURE)\n",
    "median_value = np.median(data_MDI_OBD_FUEL_PRESSURE)\n",
    "std_value  = np.std(data_MDI_OBD_FUEL_PRESSURE)\n",
    "print('max_value: ',max_value)\n",
    "print('min_value: ',min_value)\n",
    "print('mean_value: ',mean_value)\n",
    "print('std_value: ',std_value)\n",
    "print('median_value: ',median_value)\n",
    "print('number of lines : ',len(data_MDI_OBD_FUEL_PRESSURE))\n",
    "\n",
    "b = np.arange(min_value,max_value,(max_value-min_value)/100)\n",
    "hist = plt.hist(data_MDI_OBD_FUEL_PRESSURE,b)\n",
    "plt.show()\n",
    "\n",
    "b = np.arange(200,600,1)\n",
    "hist = plt.hist(data_MDI_OBD_FUEL_PRESSURE,b)\n",
    "plt.show()\n"
   ]
  },
  {
   "cell_type": "code",
   "execution_count": 89,
   "metadata": {},
   "outputs": [
    {
     "data": {
      "text/markdown": [
       "# MDI_OBD_RPM\n",
       "## Engine RPM obtained from the OBD."
      ],
      "text/plain": [
       "<IPython.core.display.Markdown object>"
      ]
     },
     "metadata": {},
     "output_type": "display_data"
    },
    {
     "name": "stdout",
     "output_type": "stream",
     "text": [
      "max_value:  16384\n",
      "min_value:  0\n",
      "mean_value:  1173.52809919\n",
      "std_value:  775.641147791\n",
      "median_value:  1061.0\n",
      "number of lines :  4396462\n"
     ]
    },
    {
     "data": {
      "image/png": "[encoded data removed]",
      "text/plain": [
       "<matplotlib.figure.Figure at 0x20f68502e80>"
      ]
     },
     "metadata": {},
     "output_type": "display_data"
    },
    {
     "data": {
      "image/png": "[encoded data removed]",
      "text/plain": [
       "<matplotlib.figure.Figure at 0x20f709b1a90>"
      ]
     },
     "metadata": {},
     "output_type": "display_data"
    }
   ],
   "source": [
    "header = '# MDI_OBD_RPM\\n'\n",
    "description = \"\"\"## Engine RPM obtained from the OBD.\"\"\"\n",
    "display(Markdown(header+description))\n",
    "\n",
    "MDI_OBD_RPM = df['MDI_OBD_RPM']\n",
    "data_MDI_OBD_RPM = []\n",
    "\n",
    "for data in MDI_OBD_RPM:\n",
    "    if data == ' ':\n",
    "        continue\n",
    "    else:\n",
    "        data_MDI_OBD_RPM.append(int(data))\n",
    "data_MDI_OBD_RPM = np.array(data_MDI_OBD_RPM)\n",
    "data_MDI_OBD_RPM = np.sort(data_MDI_OBD_RPM)\n",
    "max_value  = np.max(data_MDI_OBD_RPM)\n",
    "min_value  = np.min(data_MDI_OBD_RPM)\n",
    "mean_value = np.mean(data_MDI_OBD_RPM)\n",
    "median_value = np.median(data_MDI_OBD_RPM)\n",
    "std_value  = np.std(data_MDI_OBD_RPM)\n",
    "print('max_value: ',max_value)\n",
    "print('min_value: ',min_value)\n",
    "print('mean_value: ',mean_value)\n",
    "print('std_value: ',std_value)\n",
    "print('median_value: ',median_value)\n",
    "print('number of lines : ',len(data_MDI_OBD_RPM))\n",
    "\n",
    "b = np.arange(min_value,max_value,(max_value-min_value)/100)\n",
    "hist = plt.hist(data_MDI_OBD_RPM,b)\n",
    "plt.show()\n",
    "\n",
    "\n",
    "b = np.arange(200,3000,5)\n",
    "hist = plt.hist(data_MDI_OBD_RPM,b)\n",
    "plt.show()\n"
   ]
  },
  {
   "cell_type": "code",
   "execution_count": 61,
   "metadata": {},
   "outputs": [
    {
     "data": {
      "text/markdown": [
       "# MDI_CRASH_DETECTED\n",
       "## When a crash on the device is detected, this field is set to: crash_id:severity."
      ],
      "text/plain": [
       "<IPython.core.display.Markdown object>"
      ]
     },
     "metadata": {},
     "output_type": "display_data"
    },
    {
     "name": "stdout",
     "output_type": "stream",
     "text": [
      "number of lines :  25728\n"
     ]
    }
   ],
   "source": [
    "header = '# MDI_CRASH_DETECTED\\n'\n",
    "description = \"\"\"## When a crash on the device is detected, this field is set to: crash_id:severity.\"\"\"\n",
    "display(Markdown(header+description))\n",
    "\n",
    "MDI_CRASH_DETECTED = df['MDI_CRASH_DETECTED']\n",
    "data_MDI_CRASH_DETECTED = []\n",
    "\n",
    "for data in MDI_CRASH_DETECTED:\n",
    "    if data == ' ':\n",
    "        continue\n",
    "    else:\n",
    "        data_MDI_CRASH_DETECTED.append(data)\n",
    "        \n",
    "print('number of lines : ',len(data_MDI_CRASH_DETECTED))"
   ]
  },
  {
   "cell_type": "code",
   "execution_count": 90,
   "metadata": {},
   "outputs": [
    {
     "data": {
      "text/markdown": [
       "# MDI_OBD_ENGINE_LOAD\n",
       "## Engine Percent Load At Current Speed."
      ],
      "text/plain": [
       "<IPython.core.display.Markdown object>"
      ]
     },
     "metadata": {},
     "output_type": "display_data"
    },
    {
     "name": "stdout",
     "output_type": "stream",
     "text": [
      "max_value:  220\n",
      "min_value:  0\n",
      "mean_value:  37.4362996767\n",
      "std_value:  26.2066589254\n",
      "median_value:  30.0\n",
      "number of lines :  3267401\n"
     ]
    },
    {
     "data": {
      "image/png": "[encoded data removed]",
      "text/plain": [
       "<matplotlib.figure.Figure at 0x210a4834be0>"
      ]
     },
     "metadata": {},
     "output_type": "display_data"
    },
    {
     "data": {
      "image/png": "[encoded data removed]",
      "text/plain": [
       "<matplotlib.figure.Figure at 0x210a4825390>"
      ]
     },
     "metadata": {},
     "output_type": "display_data"
    }
   ],
   "source": [
    "header = '# MDI_OBD_ENGINE_LOAD\\n'\n",
    "description = \"\"\"## Engine Percent Load At Current Speed.\"\"\"\n",
    "display(Markdown(header+description))\n",
    "\n",
    "MDI_OBD_ENGINE_LOAD = df['MDI_OBD_ENGINE_LOAD']\n",
    "data_MDI_OBD_ENGINE_LOAD = []\n",
    "\n",
    "for data in MDI_OBD_ENGINE_LOAD:\n",
    "    if data == ' ':\n",
    "        continue\n",
    "    else:\n",
    "        data_MDI_OBD_ENGINE_LOAD.append(int(data))\n",
    "data_MDI_OBD_ENGINE_LOAD = np.array(data_MDI_OBD_ENGINE_LOAD)\n",
    "data_MDI_OBD_ENGINE_LOAD = np.sort(data_MDI_OBD_ENGINE_LOAD)\n",
    "max_value  = np.max(data_MDI_OBD_ENGINE_LOAD)\n",
    "min_value  = np.min(data_MDI_OBD_ENGINE_LOAD)\n",
    "mean_value = np.mean(data_MDI_OBD_ENGINE_LOAD)\n",
    "median_value = np.median(data_MDI_OBD_ENGINE_LOAD)\n",
    "std_value  = np.std(data_MDI_OBD_ENGINE_LOAD)\n",
    "print('max_value: ',max_value)\n",
    "print('min_value: ',min_value)\n",
    "print('mean_value: ',mean_value)\n",
    "print('std_value: ',std_value)\n",
    "print('median_value: ',median_value)\n",
    "print('number of lines : ',len(data_MDI_OBD_ENGINE_LOAD))\n",
    "\n",
    "b = np.arange(min_value,max_value,1)\n",
    "hist = plt.hist(data_MDI_OBD_ENGINE_LOAD,b)\n",
    "plt.show()\n",
    "\n",
    "b = np.arange(min_value,100,1)\n",
    "hist = plt.hist(data_MDI_OBD_ENGINE_LOAD,b)\n",
    "plt.show()"
   ]
  },
  {
   "cell_type": "code",
   "execution_count": 102,
   "metadata": {},
   "outputs": [
    {
     "data": {
      "text/markdown": [
       "# MDI_OBD_ENGINE_COOLANT_LEVEL\n",
       "## Engine Coolant Level percentage."
      ],
      "text/plain": [
       "<IPython.core.display.Markdown object>"
      ]
     },
     "metadata": {},
     "output_type": "display_data"
    },
    {
     "name": "stdout",
     "output_type": "stream",
     "text": [
      "max_value:  1\n",
      "min_value:  0\n",
      "mean_value:  0.869904076739\n",
      "std_value:  0.336408938663\n",
      "median_value:  1.0\n",
      "number of lines :  3336\n"
     ]
    },
    {
     "data": {
      "image/png": "[encoded data removed]",
      "text/plain": [
       "<matplotlib.figure.Figure at 0x210e04b8630>"
      ]
     },
     "metadata": {},
     "output_type": "display_data"
    }
   ],
   "source": [
    "header = '# MDI_OBD_ENGINE_COOLANT_LEVEL\\n'\n",
    "description = \"\"\"## Engine Coolant Level percentage.\"\"\"\n",
    "display(Markdown(header+description))\n",
    "\n",
    "MDI_OBD_ENGINE_COOLANT_LEVEL = df['MDI_OBD_ENGINE_COOLANT_LEVEL']\n",
    "data_MDI_OBD_ENGINE_COOLANT_LEVEL = []\n",
    "\n",
    "for data in MDI_OBD_ENGINE_COOLANT_LEVEL:\n",
    "    if data == ' ':\n",
    "        continue\n",
    "    else:\n",
    "        data_MDI_OBD_ENGINE_COOLANT_LEVEL.append(int(data))\n",
    "data_MDI_OBD_ENGINE_COOLANT_LEVEL = np.array(data_MDI_OBD_ENGINE_COOLANT_LEVEL)\n",
    "data_MDI_OBD_ENGINE_COOLANT_LEVEL = np.sort(data_MDI_OBD_ENGINE_COOLANT_LEVEL)\n",
    "max_value  = np.max(data_MDI_OBD_ENGINE_COOLANT_LEVEL)\n",
    "min_value  = np.min(data_MDI_OBD_ENGINE_COOLANT_LEVEL)\n",
    "mean_value = np.mean(data_MDI_OBD_ENGINE_COOLANT_LEVEL)\n",
    "median_value = np.median(data_MDI_OBD_ENGINE_COOLANT_LEVEL)\n",
    "std_value  = np.std(data_MDI_OBD_ENGINE_COOLANT_LEVEL)\n",
    "print('max_value: ',max_value)\n",
    "print('min_value: ',min_value)\n",
    "print('mean_value: ',mean_value)\n",
    "print('std_value: ',std_value)\n",
    "print('median_value: ',median_value)\n",
    "print('number of lines : ',len(data_MDI_OBD_ENGINE_COOLANT_LEVEL))\n",
    "\n",
    "b = np.arange(min_value,max_value*1.01,0.1)\n",
    "hist = plt.hist(data_MDI_OBD_ENGINE_COOLANT_LEVEL,b)\n",
    "plt.show()"
   ]
  },
  {
   "cell_type": "code",
   "execution_count": 103,
   "metadata": {},
   "outputs": [
    {
     "data": {
      "text/markdown": [
       "# MDI_EXT_BATT_LOW\n",
       "## Low external battery voltage status."
      ],
      "text/plain": [
       "<IPython.core.display.Markdown object>"
      ]
     },
     "metadata": {},
     "output_type": "display_data"
    },
    {
     "name": "stdout",
     "output_type": "stream",
     "text": [
      "max_value:  1\n",
      "min_value:  0\n",
      "mean_value:  0.346292740075\n",
      "std_value:  0.475787850041\n",
      "median_value:  0.0\n",
      "number of lines :  82797\n"
     ]
    }
   ],
   "source": [
    "header = '# MDI_EXT_BATT_LOW\\n'\n",
    "description = \"\"\"## Low external battery voltage status.\"\"\"\n",
    "display(Markdown(header+description))\n",
    "\n",
    "MDI_EXT_BATT_LOW = df['MDI_EXT_BATT_LOW']\n",
    "data_MDI_EXT_BATT_LOW = []\n",
    "\n",
    "for data in MDI_EXT_BATT_LOW:\n",
    "    if data == ' ':\n",
    "        continue\n",
    "    else:\n",
    "        data_MDI_EXT_BATT_LOW.append(int(data))\n",
    "data_MDI_EXT_BATT_LOW = np.array(data_MDI_EXT_BATT_LOW)\n",
    "data_MDI_EXT_BATT_LOW = np.sort(data_MDI_EXT_BATT_LOW)\n",
    "max_value  = np.max(data_MDI_EXT_BATT_LOW)\n",
    "min_value  = np.min(data_MDI_EXT_BATT_LOW)\n",
    "mean_value = np.mean(data_MDI_EXT_BATT_LOW)\n",
    "median_value = np.median(data_MDI_EXT_BATT_LOW)\n",
    "std_value  = np.std(data_MDI_EXT_BATT_LOW)\n",
    "print('max_value: ',max_value)\n",
    "print('min_value: ',min_value)\n",
    "print('mean_value: ',mean_value)\n",
    "print('std_value: ',std_value)\n",
    "print('median_value: ',median_value)\n",
    "print('number of lines : ',len(data_MDI_EXT_BATT_LOW))"
   ]
  },
  {
   "cell_type": "code",
   "execution_count": 108,
   "metadata": {},
   "outputs": [
    {
     "data": {
      "text/markdown": [
       "# MDI_OBD_FUEL_DELIVERY_PRESSURE\n",
       "## Engine Fuel Delivery Pressure in psi."
      ],
      "text/plain": [
       "<IPython.core.display.Markdown object>"
      ]
     },
     "metadata": {},
     "output_type": "display_data"
    },
    {
     "name": "stdout",
     "output_type": "stream",
     "text": [
      "max_value:  1000\n",
      "min_value:  0\n",
      "mean_value:  573.327754854\n",
      "std_value:  170.866706363\n",
      "median_value:  580.0\n",
      "number of lines :  251801\n"
     ]
    },
    {
     "data": {
      "image/png": "[encoded data removed]",
      "text/plain": [
       "<matplotlib.figure.Figure at 0x210e88dc128>"
      ]
     },
     "metadata": {},
     "output_type": "display_data"
    },
    {
     "data": {
      "image/png": "[encoded data removed]",
      "text/plain": [
       "<matplotlib.figure.Figure at 0x20f67093400>"
      ]
     },
     "metadata": {},
     "output_type": "display_data"
    }
   ],
   "source": [
    "header = '# MDI_OBD_FUEL_DELIVERY_PRESSURE\\n'\n",
    "description = \"\"\"## Engine Fuel Delivery Pressure in psi.\"\"\"\n",
    "display(Markdown(header+description))\n",
    "\n",
    "MDI_OBD_FUEL_DELIVERY_PRESSURE = df['MDI_OBD_FUEL_DELIVERY_PRESSURE']\n",
    "data_MDI_OBD_FUEL_DELIVERY_PRESSURE = []\n",
    "\n",
    "for data in MDI_OBD_FUEL_DELIVERY_PRESSURE:\n",
    "    if data == ' ':\n",
    "        continue\n",
    "    else:\n",
    "        data_MDI_OBD_FUEL_DELIVERY_PRESSURE.append(int(data))\n",
    "data_MDI_OBD_FUEL_DELIVERY_PRESSURE = np.array(data_MDI_OBD_FUEL_DELIVERY_PRESSURE)\n",
    "data_MDI_OBD_FUEL_DELIVERY_PRESSURE = np.sort(data_MDI_OBD_FUEL_DELIVERY_PRESSURE)\n",
    "max_value  = np.max(data_MDI_OBD_FUEL_DELIVERY_PRESSURE)\n",
    "min_value  = np.min(data_MDI_OBD_FUEL_DELIVERY_PRESSURE)\n",
    "mean_value = np.mean(data_MDI_OBD_FUEL_DELIVERY_PRESSURE)\n",
    "median_value = np.median(data_MDI_OBD_FUEL_DELIVERY_PRESSURE)\n",
    "std_value  = np.std(data_MDI_OBD_FUEL_DELIVERY_PRESSURE)\n",
    "print('max_value: ',max_value)\n",
    "print('min_value: ',min_value)\n",
    "print('mean_value: ',mean_value)\n",
    "print('std_value: ',std_value)\n",
    "print('median_value: ',median_value)\n",
    "print('number of lines : ',len(data_MDI_OBD_FUEL_DELIVERY_PRESSURE))\n",
    "\n",
    "b = np.arange(min_value,max_value*1.01,1)\n",
    "hist = plt.hist(data_MDI_OBD_FUEL_DELIVERY_PRESSURE,b)\n",
    "plt.show()\n",
    "\n",
    "b = np.arange(200,900,5)\n",
    "hist = plt.hist(data_MDI_OBD_FUEL_DELIVERY_PRESSURE,b)\n",
    "plt.show()"
   ]
  },
  {
   "cell_type": "code",
   "execution_count": null,
   "metadata": {
    "collapsed": true
   },
   "outputs": [],
   "source": []
  }
 ],
 "metadata": {
  "kernelspec": {
   "display_name": "Python 3",
   "language": "python",
   "name": "python3"
  },
  "language_info": {
   "codemirror_mode": {
    "name": "ipython",
    "version": 3
   },
   "file_extension": ".py",
   "mimetype": "text/x-python",
   "name": "python",
   "nbconvert_exporter": "python",
   "pygments_lexer": "ipython3",
   "version": "3.6.3"
  }
 },
 "nbformat": 4,
 "nbformat_minor": 2
}
