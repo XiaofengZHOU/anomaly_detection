{
 "cells": [
  {
   "cell_type": "code",
   "execution_count": 132,
   "metadata": {
    "collapsed": true
   },
   "outputs": [],
   "source": [
    "import pandas as pd\n",
    "import matplotlib\n",
    "import matplotlib.pyplot as plt\n",
    "import numpy as np\n",
    "import math\n",
    "from IPython.display import Markdown,display"
   ]
  },
  {
   "cell_type": "code",
   "execution_count": 2,
   "metadata": {
    "collapsed": true
   },
   "outputs": [],
   "source": [
    "df = pd.read_csv('data/DATA_20171130.csv')"
   ]
  },
  {
   "cell_type": "code",
   "execution_count": 139,
   "metadata": {},
   "outputs": [
    {
     "data": {
      "text/markdown": [
       "# MDI_OBD_ENGINE_COOLANT_PRESSURE\n",
       "Engine coolant pressure in psi."
      ],
      "text/plain": [
       "<IPython.core.display.Markdown object>"
      ]
     },
     "metadata": {},
     "output_type": "display_data"
    },
    {
     "name": "stdout",
     "output_type": "stream",
     "text": [
      "max_value:  220\n",
      "min_value:  0\n",
      "mean_value:  121.528534371\n",
      "std_value:  58.6876155217\n",
      "median_value:  117.0\n",
      "1542\n"
     ]
    },
    {
     "data": {
      "image/png": "[encoded data removed]",
      "text/plain": [
       "<matplotlib.figure.Figure at 0x155a0036ef0>"
      ]
     },
     "metadata": {},
     "output_type": "display_data"
    }
   ],
   "source": [
    "header = '# MDI_OBD_ENGINE_COOLANT_PRESSURE\\n'\n",
    "description = \"\"\"Engine coolant pressure in psi.\"\"\"\n",
    "display(Markdown(header+description))\n",
    "\n",
    "MDI_OBD_ENGINE_COOLANT_PRESSURE = df['MDI_OBD_ENGINE_COOLANT_PRESSURE']\n",
    "data_MDI_OBD_ENGINE_COOLANT_PRESSURE = []\n",
    "\n",
    "for data in MDI_OBD_ENGINE_COOLANT_PRESSURE:\n",
    "    if data == ' ':\n",
    "        continue\n",
    "    else:\n",
    "        data_MDI_OBD_ENGINE_COOLANT_PRESSURE.append(int(data))\n",
    "data_MDI_OBD_ENGINE_COOLANT_PRESSURE = np.array(data_MDI_OBD_ENGINE_COOLANT_PRESSURE)\n",
    "max_value  = np.max(data_MDI_OBD_ENGINE_COOLANT_PRESSURE)\n",
    "min_value  = np.min(data_MDI_OBD_ENGINE_COOLANT_PRESSURE)\n",
    "mean_value = np.mean(data_MDI_OBD_ENGINE_COOLANT_PRESSURE)\n",
    "std_value  = np.std(data_MDI_OBD_ENGINE_COOLANT_PRESSURE)\n",
    "median_value = np.median(data_MDI_OBD_ENGINE_COOLANT_PRESSURE)\n",
    "print('max_value: ',max_value)\n",
    "print('min_value: ',min_value)\n",
    "print('mean_value: ',mean_value)\n",
    "print('std_value: ',std_value)\n",
    "print('median_value: ',median_value)\n",
    "print(len(data_MDI_OBD_ENGINE_COOLANT_PRESSURE))\n",
    "b = np.arange(min_value,max_value,1)\n",
    "plt.hist(data_MDI_OBD_ENGINE_COOLANT_PRESSURE,b)\n",
    "plt.show()"
   ]
  },
  {
   "cell_type": "code",
   "execution_count": 138,
   "metadata": {},
   "outputs": [
    {
     "data": {
      "text/markdown": [
       "# ODO_FULL_METER\n",
       "Stores value in meters of the GPS full odometer."
      ],
      "text/plain": [
       "<IPython.core.display.Markdown object>"
      ]
     },
     "metadata": {},
     "output_type": "display_data"
    },
    {
     "name": "stdout",
     "output_type": "stream",
     "text": [
      "max_value:  899878661\n",
      "min_value:  -2118507903\n",
      "mean_value:  32037372.8321\n",
      "std_value:  48470010.567\n",
      "median_value:  16001822.0\n",
      "number of lines :  7460631\n"
     ]
    },
    {
     "data": {
      "image/png": "[encoded data removed]",
      "text/plain": [
       "<matplotlib.figure.Figure at 0x1559f6b65c0>"
      ]
     },
     "metadata": {},
     "output_type": "display_data"
    },
    {
     "data": {
      "image/png": "[encoded data removed]",
      "text/plain": [
       "<matplotlib.figure.Figure at 0x1559f37bda0>"
      ]
     },
     "metadata": {},
     "output_type": "display_data"
    }
   ],
   "source": [
    "header = '# ODO_FULL_METER\\n'\n",
    "description = \"\"\"Stores value in meters of the GPS full odometer.\"\"\"\n",
    "display(Markdown(header+description))\n",
    "\n",
    "ODO_FULL_METER = df['ODO_FULL_METER']\n",
    "data_ODO_FULL_METER = []\n",
    "\n",
    "for data in ODO_FULL_METER:\n",
    "    if data == ' ':\n",
    "        continue\n",
    "    else:\n",
    "        data_ODO_FULL_METER.append(int(data))\n",
    "data_ODO_FULL_METER = np.array(data_ODO_FULL_METER)\n",
    "data_ODO_FULL_METER = np.sort(data_ODO_FULL_METER)\n",
    "max_value  = np.max(data_ODO_FULL_METER)\n",
    "min_value  = np.min(data_ODO_FULL_METER)\n",
    "mean_value = np.mean(data_ODO_FULL_METER)\n",
    "std_value  = np.std(data_ODO_FULL_METER)\n",
    "median_value = np.median(data_ODO_FULL_METER)\n",
    "print('max_value: ',max_value)\n",
    "print('min_value: ',min_value)\n",
    "print('mean_value: ',mean_value)\n",
    "print('std_value: ',std_value)\n",
    "print('median_value: ',median_value)\n",
    "print('number of lines : ',len(data_ODO_FULL_METER))\n",
    "b = np.arange(0,max_value,  (max_value)/100 )\n",
    "plt.hist(data_ODO_FULL_METER,b)\n",
    "plt.show()\n",
    "\n",
    "b = np.arange(0,max_value/5,  (max_value)/1000 )\n",
    "plt.hist(data_ODO_FULL_METER,b)\n",
    "plt.show()"
   ]
  },
  {
   "cell_type": "code",
   "execution_count": 136,
   "metadata": {},
   "outputs": [
    {
     "data": {
      "text/markdown": [
       "# BATT_VOLT\n",
       "Internal battery voltage (mV)."
      ],
      "text/plain": [
       "<IPython.core.display.Markdown object>"
      ]
     },
     "metadata": {},
     "output_type": "display_data"
    },
    {
     "name": "stdout",
     "output_type": "stream",
     "text": [
      "max_value:  4284\n",
      "min_value:  0\n",
      "mean_value:  4029.58521396\n",
      "std_value:  78.487954267\n",
      "median_value:  4032.0\n",
      "number of lines :  13140418\n"
     ]
    },
    {
     "data": {
      "image/png": "[encoded data removed]",
      "text/plain": [
       "<matplotlib.figure.Figure at 0x1559f7e1390>"
      ]
     },
     "metadata": {},
     "output_type": "display_data"
    },
    {
     "data": {
      "image/png": "[encoded data removed]",
      "text/plain": [
       "<matplotlib.figure.Figure at 0x1559fc9a860>"
      ]
     },
     "metadata": {},
     "output_type": "display_data"
    }
   ],
   "source": [
    "header = '# BATT_VOLT\\n'\n",
    "description = \"\"\"Internal battery voltage (mV).\"\"\"\n",
    "display(Markdown(header+description))\n",
    "\n",
    "BATT_VOLT = df['BATT_VOLT']\n",
    "data_BATT_VOLT = []\n",
    "\n",
    "for data in BATT_VOLT:\n",
    "    if data == ' ':\n",
    "        continue\n",
    "    else:\n",
    "        data_BATT_VOLT.append(int(data))\n",
    "data_BATT_VOLT = np.array(data_BATT_VOLT)\n",
    "data_BATT_VOLT = np.sort(data_BATT_VOLT)\n",
    "max_value  = np.max(data_BATT_VOLT)\n",
    "min_value  = np.min(data_BATT_VOLT)\n",
    "mean_value = np.mean(data_BATT_VOLT)\n",
    "std_value  = np.std(data_BATT_VOLT)\n",
    "median_value = np.median(data_BATT_VOLT)\n",
    "print('max_value: ',max_value)\n",
    "print('min_value: ',min_value)\n",
    "print('mean_value: ',mean_value)\n",
    "print('std_value: ',std_value)\n",
    "print('median_value: ',median_value)\n",
    "print('number of lines : ',len(data_BATT_VOLT))\n",
    "b = np.arange(min_value,max_value,50 )\n",
    "hist = plt.hist(data_BATT_VOLT,b)\n",
    "plt.show()\n",
    "\n",
    "b = np.arange(3800,max_value,5)\n",
    "hist = plt.hist(data_BATT_VOLT,b)\n",
    "plt.show()"
   ]
  },
  {
   "cell_type": "code",
   "execution_count": 135,
   "metadata": {},
   "outputs": [
    {
     "data": {
      "text/markdown": [
       "# MDI_OBD_ENGINE_OIL_TEMP\n",
       "Engine oil temperature in Fahrenheit."
      ],
      "text/plain": [
       "<IPython.core.display.Markdown object>"
      ]
     },
     "metadata": {},
     "output_type": "display_data"
    },
    {
     "name": "stdout",
     "output_type": "stream",
     "text": [
      "max_value:  4482\n",
      "min_value:  -4561\n",
      "mean_value:  34.1910351503\n",
      "std_value:  501.840508623\n",
      "median_value:  93.0\n",
      "number of lines :  638516\n"
     ]
    },
    {
     "data": {
      "image/png": "[encoded data removed]",
      "text/plain": [
       "<matplotlib.figure.Figure at 0x1559f973f60>"
      ]
     },
     "metadata": {},
     "output_type": "display_data"
    },
    {
     "data": {
      "image/png": "[encoded data removed]",
      "text/plain": [
       "<matplotlib.figure.Figure at 0x15724733278>"
      ]
     },
     "metadata": {},
     "output_type": "display_data"
    }
   ],
   "source": [
    "header = '# MDI_OBD_ENGINE_OIL_TEMP\\n'\n",
    "description = \"\"\"Engine oil temperature in Fahrenheit.\"\"\"\n",
    "display(Markdown(header+description))\n",
    "\n",
    "MDI_OBD_ENGINE_OIL_TEMP = df['MDI_OBD_ENGINE_OIL_TEMP']\n",
    "data_MDI_OBD_ENGINE_OIL_TEMP = []\n",
    "\n",
    "for data in MDI_OBD_ENGINE_OIL_TEMP:\n",
    "    if data == ' ':\n",
    "        continue\n",
    "    else:\n",
    "        data_MDI_OBD_ENGINE_OIL_TEMP.append(int(data))\n",
    "data_MDI_OBD_ENGINE_OIL_TEMP = np.array(data_MDI_OBD_ENGINE_OIL_TEMP)\n",
    "data_MDI_OBD_ENGINE_OIL_TEMP = np.sort(data_MDI_OBD_ENGINE_OIL_TEMP)\n",
    "max_value  = np.max(data_MDI_OBD_ENGINE_OIL_TEMP)\n",
    "min_value  = np.min(data_MDI_OBD_ENGINE_OIL_TEMP)\n",
    "mean_value = np.mean(data_MDI_OBD_ENGINE_OIL_TEMP)\n",
    "std_value  = np.std(data_MDI_OBD_ENGINE_OIL_TEMP)\n",
    "median_value = np.median(data_MDI_OBD_ENGINE_OIL_TEMP)\n",
    "print('max_value: ',max_value)\n",
    "print('min_value: ',min_value)\n",
    "print('mean_value: ',mean_value)\n",
    "print('std_value: ',std_value)\n",
    "print('median_value: ',median_value)\n",
    "print('number of lines : ',len(data_MDI_OBD_ENGINE_OIL_TEMP))\n",
    "b = np.arange(min_value,max_value,(max_value-min_value)/100)\n",
    "hist = plt.hist(data_MDI_OBD_ENGINE_OIL_TEMP,b)\n",
    "plt.show()\n",
    "\n",
    "b = np.arange(0,130,2)\n",
    "hist = plt.hist(data_MDI_OBD_ENGINE_OIL_TEMP,b)\n",
    "plt.show()"
   ]
  },
  {
   "cell_type": "code",
   "execution_count": 134,
   "metadata": {},
   "outputs": [
    {
     "data": {
      "text/markdown": [
       "# MDI_DASHBOARD_FUEL\n",
       "Fuel level in liters from the dashboard."
      ],
      "text/plain": [
       "<IPython.core.display.Markdown object>"
      ]
     },
     "metadata": {},
     "output_type": "display_data"
    },
    {
     "name": "stdout",
     "output_type": "stream",
     "text": [
      "max_value:  100\n",
      "min_value:  0\n",
      "mean_value:  58.689267616\n",
      "std_value:  23.5398228471\n",
      "median_value:  60.0\n",
      "number of lines :  1130336\n"
     ]
    },
    {
     "data": {
      "image/png": "[encoded data removed]",
      "text/plain": [
       "<matplotlib.figure.Figure at 0x1559fe22b00>"
      ]
     },
     "metadata": {},
     "output_type": "display_data"
    }
   ],
   "source": [
    "header = '# MDI_DASHBOARD_FUEL\\n'\n",
    "description = \"\"\"Fuel level in liters from the dashboard.\"\"\"\n",
    "display(Markdown(header+description))\n",
    "\n",
    "MDI_DASHBOARD_FUEL = df['MDI_DASHBOARD_FUEL']\n",
    "data_MDI_DASHBOARD_FUEL = []\n",
    "\n",
    "for data in MDI_DASHBOARD_FUEL:\n",
    "    if data == ' ':\n",
    "        continue\n",
    "    else:\n",
    "        data_MDI_DASHBOARD_FUEL.append(int(data))\n",
    "data_MDI_DASHBOARD_FUEL = np.array(data_MDI_DASHBOARD_FUEL)\n",
    "data_MDI_DASHBOARD_FUEL = np.sort(data_MDI_DASHBOARD_FUEL)\n",
    "max_value  = np.max(data_MDI_DASHBOARD_FUEL)\n",
    "min_value  = np.min(data_MDI_DASHBOARD_FUEL)\n",
    "mean_value = np.mean(data_MDI_DASHBOARD_FUEL)\n",
    "std_value  = np.std(data_MDI_DASHBOARD_FUEL)\n",
    "median_value = np.median(data_MDI_DASHBOARD_FUEL)\n",
    "print('max_value: ',max_value)\n",
    "print('min_value: ',min_value)\n",
    "print('mean_value: ',mean_value)\n",
    "print('std_value: ',std_value)\n",
    "print('median_value: ',median_value)\n",
    "print('number of lines : ',len(data_MDI_DASHBOARD_FUEL))\n",
    "b = np.arange(min_value,max_value,(max_value-min_value)/100)\n",
    "hist = plt.hist(data_MDI_OBD_ENGINE_OIL_TEMP,b)\n",
    "plt.show()\n"
   ]
  },
  {
   "cell_type": "code",
   "execution_count": 133,
   "metadata": {},
   "outputs": [
    {
     "data": {
      "text/markdown": [
       "# MDI_OBD_FUEL\n",
       "Total cumulated quantity (in mL) of fuel consumed since last reset . \n",
       "                Estimated with OBD2 or eOBD instantaneous data \n",
       "                (not the dashboard data that is available with additional module)"
      ],
      "text/plain": [
       "<IPython.core.display.Markdown object>"
      ]
     },
     "metadata": {},
     "output_type": "display_data"
    },
    {
     "name": "stdout",
     "output_type": "stream",
     "text": [
      "max_value:  2147409057\n",
      "min_value:  -2147280555\n",
      "mean_value:  24242350.3407\n",
      "std_value:  174479028.635\n",
      "median_value:  9485607.5\n",
      "number of lines :  2564456\n"
     ]
    },
    {
     "data": {
      "image/png": "[encoded data removed]",
      "text/plain": [
       "<matplotlib.figure.Figure at 0x155a01a18d0>"
      ]
     },
     "metadata": {},
     "output_type": "display_data"
    },
    {
     "data": {
      "image/png": "[encoded data removed]",
      "text/plain": [
       "<matplotlib.figure.Figure at 0x155a0196828>"
      ]
     },
     "metadata": {},
     "output_type": "display_data"
    }
   ],
   "source": [
    "header = '# MDI_OBD_FUEL\\n'\n",
    "description = \"\"\"Total cumulated quantity (in mL) of fuel consumed since last reset . \n",
    "                Estimated with OBD2 or eOBD instantaneous data \n",
    "                (not the dashboard data that is available with additional module)\"\"\"\n",
    "display(Markdown(header+description))\n",
    "\n",
    "MDI_OBD_FUEL = df['MDI_OBD_FUEL']\n",
    "data_MDI_OBD_FUEL = []\n",
    "\n",
    "for data in MDI_OBD_FUEL:\n",
    "    if data == ' ':\n",
    "        continue\n",
    "    else:\n",
    "        data_MDI_OBD_FUEL.append(int(data))\n",
    "data_MDI_OBD_FUEL = np.array(data_MDI_OBD_FUEL)\n",
    "data_MDI_OBD_FUEL = np.sort(data_MDI_OBD_FUEL)\n",
    "max_value  = np.max(data_MDI_OBD_FUEL)\n",
    "min_value  = np.min(data_MDI_OBD_FUEL)\n",
    "mean_value = np.mean(data_MDI_OBD_FUEL)\n",
    "median_value = np.median(data_MDI_OBD_FUEL)\n",
    "std_value  = np.std(data_MDI_OBD_FUEL)\n",
    "print('max_value: ',max_value)\n",
    "print('min_value: ',min_value)\n",
    "print('mean_value: ',mean_value)\n",
    "print('std_value: ',std_value)\n",
    "print('median_value: ',median_value)\n",
    "print('number of lines : ',len(data_MDI_OBD_FUEL))\n",
    "b = np.arange(0,max_value,(max_value)/100)\n",
    "hist = plt.hist(data_MDI_OBD_FUEL,b)\n",
    "plt.show()\n",
    "\n",
    "b = np.arange(0,max_value/20,(max_value)/2000)\n",
    "hist = plt.hist(data_MDI_OBD_FUEL,b)\n",
    "plt.show()\n"
   ]
  },
  {
   "cell_type": "code",
   "execution_count": 142,
   "metadata": {},
   "outputs": [
    {
     "data": {
      "text/markdown": [
       "# BATT\n",
       "External battery presence status (1 if present, 0 if not)"
      ],
      "text/plain": [
       "<IPython.core.display.Markdown object>"
      ]
     },
     "metadata": {},
     "output_type": "display_data"
    },
    {
     "name": "stdout",
     "output_type": "stream",
     "text": [
      "max_value:  1\n",
      "min_value:  -1\n",
      "mean_value:  0.530713192119\n",
      "std_value:  0.776429688935\n",
      "median_value:  1.0\n",
      "number of lines :  59437\n"
     ]
    }
   ],
   "source": [
    "header = '# BATT\\n'\n",
    "description = \"\"\"External battery presence status (1 if present, 0 if not)\"\"\"\n",
    "display(Markdown(header+description))\n",
    "\n",
    "BATT = df['BATT']\n",
    "data_BATT = []\n",
    "\n",
    "for data in BATT:\n",
    "    if data == ' ':\n",
    "        continue\n",
    "    else:\n",
    "        data_BATT.append(int(data))\n",
    "data_BATT = np.array(data_BATT)\n",
    "data_BATT = np.sort(data_BATT)\n",
    "max_value  = np.max(data_BATT)\n",
    "min_value  = np.min(data_BATT)\n",
    "mean_value = np.mean(data_BATT)\n",
    "median_value = np.median(data_BATT)\n",
    "std_value  = np.std(data_BATT)\n",
    "print('max_value: ',max_value)\n",
    "print('min_value: ',min_value)\n",
    "print('mean_value: ',mean_value)\n",
    "print('std_value: ',std_value)\n",
    "print('median_value: ',median_value)\n",
    "print('number of lines : ',len(data_BATT))\n",
    "\n",
    "\n"
   ]
  },
  {
   "cell_type": "code",
   "execution_count": null,
   "metadata": {
    "collapsed": true
   },
   "outputs": [],
   "source": []
  }
 ],
 "metadata": {
  "kernelspec": {
   "display_name": "Python 3",
   "language": "python",
   "name": "python3"
  },
  "language_info": {
   "codemirror_mode": {
    "name": "ipython",
    "version": 3
   },
   "file_extension": ".py",
   "mimetype": "text/x-python",
   "name": "python",
   "nbconvert_exporter": "python",
   "pygments_lexer": "ipython3",
   "version": "3.6.3"
  }
 },
 "nbformat": 4,
 "nbformat_minor": 2
}
